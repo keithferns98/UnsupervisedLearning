{
  "nbformat": 4,
  "nbformat_minor": 0,
  "metadata": {
    "colab": {
      "name": "UnsupervisedLearning.ipynb",
      "provenance": [],
      "collapsed_sections": [],
      "authorship_tag": "ABX9TyMxVKHl+fosVYtwqHqNISQa",
      "include_colab_link": true
    },
    "kernelspec": {
      "name": "python3",
      "display_name": "Python 3"
    },
    "language_info": {
      "name": "python"
    }
  },
  "cells": [
    {
      "cell_type": "markdown",
      "metadata": {
        "id": "view-in-github",
        "colab_type": "text"
      },
      "source": [
        "<a href=\"https://colab.research.google.com/github/keithferns98/UnsupervisedLearning/blob/main/UnsupervisedLearning.ipynb\" target=\"_parent\"><img src=\"https://colab.research.google.com/assets/colab-badge.svg\" alt=\"Open In Colab\"/></a>"
      ]
    },
    {
      "cell_type": "code",
      "metadata": {
        "id": "zwNX7hxTv7WT"
      },
      "source": [
        "# Load EDA Pkgs\n",
        "import pandas as pd\n",
        "import numpy as np"
      ],
      "execution_count": 80,
      "outputs": []
    },
    {
      "cell_type": "code",
      "metadata": {
        "id": "CTh8L-fjQEJp"
      },
      "source": [
        "# Load Visualization\n",
        "import matplotlib.pyplot as plt\n",
        "import seaborn as sns\n",
        "%matplotlib inline"
      ],
      "execution_count": 81,
      "outputs": []
    },
    {
      "cell_type": "code",
      "metadata": {
        "colab": {
          "base_uri": "https://localhost:8080/",
          "height": 405
        },
        "id": "k49zroaKQNqu",
        "outputId": "bfd502ee-5685-4f78-e916-338098f5db7c"
      },
      "source": [
        "df=pd.read_csv('countries_geodata.csv',sep='\\t')\n",
        "df.head()"
      ],
      "execution_count": 82,
      "outputs": [
        {
          "output_type": "error",
          "ename": "FileNotFoundError",
          "evalue": "ignored",
          "traceback": [
            "\u001b[0;31m---------------------------------------------------------------------------\u001b[0m",
            "\u001b[0;31mFileNotFoundError\u001b[0m                         Traceback (most recent call last)",
            "\u001b[0;32m<ipython-input-82-cf43369719fb>\u001b[0m in \u001b[0;36m<module>\u001b[0;34m()\u001b[0m\n\u001b[0;32m----> 1\u001b[0;31m \u001b[0mdf\u001b[0m\u001b[0;34m=\u001b[0m\u001b[0mpd\u001b[0m\u001b[0;34m.\u001b[0m\u001b[0mread_csv\u001b[0m\u001b[0;34m(\u001b[0m\u001b[0;34m'countries_geodata.csv'\u001b[0m\u001b[0;34m,\u001b[0m\u001b[0msep\u001b[0m\u001b[0;34m=\u001b[0m\u001b[0;34m'\\t'\u001b[0m\u001b[0;34m)\u001b[0m\u001b[0;34m\u001b[0m\u001b[0;34m\u001b[0m\u001b[0m\n\u001b[0m\u001b[1;32m      2\u001b[0m \u001b[0mdf\u001b[0m\u001b[0;34m.\u001b[0m\u001b[0mhead\u001b[0m\u001b[0;34m(\u001b[0m\u001b[0;34m)\u001b[0m\u001b[0;34m\u001b[0m\u001b[0;34m\u001b[0m\u001b[0m\n",
            "\u001b[0;32m/usr/local/lib/python3.7/dist-packages/pandas/io/parsers.py\u001b[0m in \u001b[0;36mread_csv\u001b[0;34m(filepath_or_buffer, sep, delimiter, header, names, index_col, usecols, squeeze, prefix, mangle_dupe_cols, dtype, engine, converters, true_values, false_values, skipinitialspace, skiprows, skipfooter, nrows, na_values, keep_default_na, na_filter, verbose, skip_blank_lines, parse_dates, infer_datetime_format, keep_date_col, date_parser, dayfirst, cache_dates, iterator, chunksize, compression, thousands, decimal, lineterminator, quotechar, quoting, doublequote, escapechar, comment, encoding, dialect, error_bad_lines, warn_bad_lines, delim_whitespace, low_memory, memory_map, float_precision)\u001b[0m\n\u001b[1;32m    686\u001b[0m     )\n\u001b[1;32m    687\u001b[0m \u001b[0;34m\u001b[0m\u001b[0m\n\u001b[0;32m--> 688\u001b[0;31m     \u001b[0;32mreturn\u001b[0m \u001b[0m_read\u001b[0m\u001b[0;34m(\u001b[0m\u001b[0mfilepath_or_buffer\u001b[0m\u001b[0;34m,\u001b[0m \u001b[0mkwds\u001b[0m\u001b[0;34m)\u001b[0m\u001b[0;34m\u001b[0m\u001b[0;34m\u001b[0m\u001b[0m\n\u001b[0m\u001b[1;32m    689\u001b[0m \u001b[0;34m\u001b[0m\u001b[0m\n\u001b[1;32m    690\u001b[0m \u001b[0;34m\u001b[0m\u001b[0m\n",
            "\u001b[0;32m/usr/local/lib/python3.7/dist-packages/pandas/io/parsers.py\u001b[0m in \u001b[0;36m_read\u001b[0;34m(filepath_or_buffer, kwds)\u001b[0m\n\u001b[1;32m    452\u001b[0m \u001b[0;34m\u001b[0m\u001b[0m\n\u001b[1;32m    453\u001b[0m     \u001b[0;31m# Create the parser.\u001b[0m\u001b[0;34m\u001b[0m\u001b[0;34m\u001b[0m\u001b[0;34m\u001b[0m\u001b[0m\n\u001b[0;32m--> 454\u001b[0;31m     \u001b[0mparser\u001b[0m \u001b[0;34m=\u001b[0m \u001b[0mTextFileReader\u001b[0m\u001b[0;34m(\u001b[0m\u001b[0mfp_or_buf\u001b[0m\u001b[0;34m,\u001b[0m \u001b[0;34m**\u001b[0m\u001b[0mkwds\u001b[0m\u001b[0;34m)\u001b[0m\u001b[0;34m\u001b[0m\u001b[0;34m\u001b[0m\u001b[0m\n\u001b[0m\u001b[1;32m    455\u001b[0m \u001b[0;34m\u001b[0m\u001b[0m\n\u001b[1;32m    456\u001b[0m     \u001b[0;32mif\u001b[0m \u001b[0mchunksize\u001b[0m \u001b[0;32mor\u001b[0m \u001b[0miterator\u001b[0m\u001b[0;34m:\u001b[0m\u001b[0;34m\u001b[0m\u001b[0;34m\u001b[0m\u001b[0m\n",
            "\u001b[0;32m/usr/local/lib/python3.7/dist-packages/pandas/io/parsers.py\u001b[0m in \u001b[0;36m__init__\u001b[0;34m(self, f, engine, **kwds)\u001b[0m\n\u001b[1;32m    946\u001b[0m             \u001b[0mself\u001b[0m\u001b[0;34m.\u001b[0m\u001b[0moptions\u001b[0m\u001b[0;34m[\u001b[0m\u001b[0;34m\"has_index_names\"\u001b[0m\u001b[0;34m]\u001b[0m \u001b[0;34m=\u001b[0m \u001b[0mkwds\u001b[0m\u001b[0;34m[\u001b[0m\u001b[0;34m\"has_index_names\"\u001b[0m\u001b[0;34m]\u001b[0m\u001b[0;34m\u001b[0m\u001b[0;34m\u001b[0m\u001b[0m\n\u001b[1;32m    947\u001b[0m \u001b[0;34m\u001b[0m\u001b[0m\n\u001b[0;32m--> 948\u001b[0;31m         \u001b[0mself\u001b[0m\u001b[0;34m.\u001b[0m\u001b[0m_make_engine\u001b[0m\u001b[0;34m(\u001b[0m\u001b[0mself\u001b[0m\u001b[0;34m.\u001b[0m\u001b[0mengine\u001b[0m\u001b[0;34m)\u001b[0m\u001b[0;34m\u001b[0m\u001b[0;34m\u001b[0m\u001b[0m\n\u001b[0m\u001b[1;32m    949\u001b[0m \u001b[0;34m\u001b[0m\u001b[0m\n\u001b[1;32m    950\u001b[0m     \u001b[0;32mdef\u001b[0m \u001b[0mclose\u001b[0m\u001b[0;34m(\u001b[0m\u001b[0mself\u001b[0m\u001b[0;34m)\u001b[0m\u001b[0;34m:\u001b[0m\u001b[0;34m\u001b[0m\u001b[0;34m\u001b[0m\u001b[0m\n",
            "\u001b[0;32m/usr/local/lib/python3.7/dist-packages/pandas/io/parsers.py\u001b[0m in \u001b[0;36m_make_engine\u001b[0;34m(self, engine)\u001b[0m\n\u001b[1;32m   1178\u001b[0m     \u001b[0;32mdef\u001b[0m \u001b[0m_make_engine\u001b[0m\u001b[0;34m(\u001b[0m\u001b[0mself\u001b[0m\u001b[0;34m,\u001b[0m \u001b[0mengine\u001b[0m\u001b[0;34m=\u001b[0m\u001b[0;34m\"c\"\u001b[0m\u001b[0;34m)\u001b[0m\u001b[0;34m:\u001b[0m\u001b[0;34m\u001b[0m\u001b[0;34m\u001b[0m\u001b[0m\n\u001b[1;32m   1179\u001b[0m         \u001b[0;32mif\u001b[0m \u001b[0mengine\u001b[0m \u001b[0;34m==\u001b[0m \u001b[0;34m\"c\"\u001b[0m\u001b[0;34m:\u001b[0m\u001b[0;34m\u001b[0m\u001b[0;34m\u001b[0m\u001b[0m\n\u001b[0;32m-> 1180\u001b[0;31m             \u001b[0mself\u001b[0m\u001b[0;34m.\u001b[0m\u001b[0m_engine\u001b[0m \u001b[0;34m=\u001b[0m \u001b[0mCParserWrapper\u001b[0m\u001b[0;34m(\u001b[0m\u001b[0mself\u001b[0m\u001b[0;34m.\u001b[0m\u001b[0mf\u001b[0m\u001b[0;34m,\u001b[0m \u001b[0;34m**\u001b[0m\u001b[0mself\u001b[0m\u001b[0;34m.\u001b[0m\u001b[0moptions\u001b[0m\u001b[0;34m)\u001b[0m\u001b[0;34m\u001b[0m\u001b[0;34m\u001b[0m\u001b[0m\n\u001b[0m\u001b[1;32m   1181\u001b[0m         \u001b[0;32melse\u001b[0m\u001b[0;34m:\u001b[0m\u001b[0;34m\u001b[0m\u001b[0;34m\u001b[0m\u001b[0m\n\u001b[1;32m   1182\u001b[0m             \u001b[0;32mif\u001b[0m \u001b[0mengine\u001b[0m \u001b[0;34m==\u001b[0m \u001b[0;34m\"python\"\u001b[0m\u001b[0;34m:\u001b[0m\u001b[0;34m\u001b[0m\u001b[0;34m\u001b[0m\u001b[0m\n",
            "\u001b[0;32m/usr/local/lib/python3.7/dist-packages/pandas/io/parsers.py\u001b[0m in \u001b[0;36m__init__\u001b[0;34m(self, src, **kwds)\u001b[0m\n\u001b[1;32m   2008\u001b[0m         \u001b[0mkwds\u001b[0m\u001b[0;34m[\u001b[0m\u001b[0;34m\"usecols\"\u001b[0m\u001b[0;34m]\u001b[0m \u001b[0;34m=\u001b[0m \u001b[0mself\u001b[0m\u001b[0;34m.\u001b[0m\u001b[0musecols\u001b[0m\u001b[0;34m\u001b[0m\u001b[0;34m\u001b[0m\u001b[0m\n\u001b[1;32m   2009\u001b[0m \u001b[0;34m\u001b[0m\u001b[0m\n\u001b[0;32m-> 2010\u001b[0;31m         \u001b[0mself\u001b[0m\u001b[0;34m.\u001b[0m\u001b[0m_reader\u001b[0m \u001b[0;34m=\u001b[0m \u001b[0mparsers\u001b[0m\u001b[0;34m.\u001b[0m\u001b[0mTextReader\u001b[0m\u001b[0;34m(\u001b[0m\u001b[0msrc\u001b[0m\u001b[0;34m,\u001b[0m \u001b[0;34m**\u001b[0m\u001b[0mkwds\u001b[0m\u001b[0;34m)\u001b[0m\u001b[0;34m\u001b[0m\u001b[0;34m\u001b[0m\u001b[0m\n\u001b[0m\u001b[1;32m   2011\u001b[0m         \u001b[0mself\u001b[0m\u001b[0;34m.\u001b[0m\u001b[0munnamed_cols\u001b[0m \u001b[0;34m=\u001b[0m \u001b[0mself\u001b[0m\u001b[0;34m.\u001b[0m\u001b[0m_reader\u001b[0m\u001b[0;34m.\u001b[0m\u001b[0munnamed_cols\u001b[0m\u001b[0;34m\u001b[0m\u001b[0;34m\u001b[0m\u001b[0m\n\u001b[1;32m   2012\u001b[0m \u001b[0;34m\u001b[0m\u001b[0m\n",
            "\u001b[0;32mpandas/_libs/parsers.pyx\u001b[0m in \u001b[0;36mpandas._libs.parsers.TextReader.__cinit__\u001b[0;34m()\u001b[0m\n",
            "\u001b[0;32mpandas/_libs/parsers.pyx\u001b[0m in \u001b[0;36mpandas._libs.parsers.TextReader._setup_parser_source\u001b[0;34m()\u001b[0m\n",
            "\u001b[0;31mFileNotFoundError\u001b[0m: [Errno 2] No such file or directory: 'countries_geodata.csv'"
          ]
        }
      ]
    },
    {
      "cell_type": "code",
      "metadata": {
        "id": "g8lROmEmRANU"
      },
      "source": [
        "df.dtypes"
      ],
      "execution_count": null,
      "outputs": []
    },
    {
      "cell_type": "code",
      "metadata": {
        "colab": {
          "base_uri": "https://localhost:8080/",
          "height": 294
        },
        "id": "l0k4Zz7wRctF",
        "outputId": "74893a5c-2d79-4c98-a867-7b7910582e10"
      },
      "source": [
        "df.describe()"
      ],
      "execution_count": 83,
      "outputs": [
        {
          "output_type": "execute_result",
          "data": {
            "text/html": [
              "<div>\n",
              "<style scoped>\n",
              "    .dataframe tbody tr th:only-of-type {\n",
              "        vertical-align: middle;\n",
              "    }\n",
              "\n",
              "    .dataframe tbody tr th {\n",
              "        vertical-align: top;\n",
              "    }\n",
              "\n",
              "    .dataframe thead th {\n",
              "        text-align: right;\n",
              "    }\n",
              "</style>\n",
              "<table border=\"1\" class=\"dataframe\">\n",
              "  <thead>\n",
              "    <tr style=\"text-align: right;\">\n",
              "      <th></th>\n",
              "      <th>Age</th>\n",
              "      <th>Income</th>\n",
              "      <th>SpendingScore</th>\n",
              "      <th>Savings</th>\n",
              "    </tr>\n",
              "  </thead>\n",
              "  <tbody>\n",
              "    <tr>\n",
              "      <th>count</th>\n",
              "      <td>505.000000</td>\n",
              "      <td>505.000000</td>\n",
              "      <td>505.000000</td>\n",
              "      <td>505.000000</td>\n",
              "    </tr>\n",
              "    <tr>\n",
              "      <th>mean</th>\n",
              "      <td>59.019802</td>\n",
              "      <td>75513.291089</td>\n",
              "      <td>0.505083</td>\n",
              "      <td>11862.455867</td>\n",
              "    </tr>\n",
              "    <tr>\n",
              "      <th>std</th>\n",
              "      <td>24.140043</td>\n",
              "      <td>35992.922184</td>\n",
              "      <td>0.259634</td>\n",
              "      <td>4949.229253</td>\n",
              "    </tr>\n",
              "    <tr>\n",
              "      <th>min</th>\n",
              "      <td>17.000000</td>\n",
              "      <td>12000.000000</td>\n",
              "      <td>0.000000</td>\n",
              "      <td>0.000000</td>\n",
              "    </tr>\n",
              "    <tr>\n",
              "      <th>25%</th>\n",
              "      <td>34.000000</td>\n",
              "      <td>34529.000000</td>\n",
              "      <td>0.304792</td>\n",
              "      <td>6828.709702</td>\n",
              "    </tr>\n",
              "    <tr>\n",
              "      <th>50%</th>\n",
              "      <td>59.000000</td>\n",
              "      <td>75078.000000</td>\n",
              "      <td>0.368215</td>\n",
              "      <td>14209.932802</td>\n",
              "    </tr>\n",
              "    <tr>\n",
              "      <th>75%</th>\n",
              "      <td>85.000000</td>\n",
              "      <td>107100.000000</td>\n",
              "      <td>0.768279</td>\n",
              "      <td>16047.268331</td>\n",
              "    </tr>\n",
              "    <tr>\n",
              "      <th>max</th>\n",
              "      <td>97.000000</td>\n",
              "      <td>142000.000000</td>\n",
              "      <td>1.000000</td>\n",
              "      <td>20000.000000</td>\n",
              "    </tr>\n",
              "  </tbody>\n",
              "</table>\n",
              "</div>"
            ],
            "text/plain": [
              "              Age         Income  SpendingScore       Savings\n",
              "count  505.000000     505.000000     505.000000    505.000000\n",
              "mean    59.019802   75513.291089       0.505083  11862.455867\n",
              "std     24.140043   35992.922184       0.259634   4949.229253\n",
              "min     17.000000   12000.000000       0.000000      0.000000\n",
              "25%     34.000000   34529.000000       0.304792   6828.709702\n",
              "50%     59.000000   75078.000000       0.368215  14209.932802\n",
              "75%     85.000000  107100.000000       0.768279  16047.268331\n",
              "max     97.000000  142000.000000       1.000000  20000.000000"
            ]
          },
          "metadata": {
            "tags": []
          },
          "execution_count": 83
        }
      ]
    },
    {
      "cell_type": "code",
      "metadata": {
        "colab": {
          "base_uri": "https://localhost:8080/"
        },
        "id": "-iIWeKL0RfSy",
        "outputId": "0cd66e11-01ae-4d94-cab4-87e3d3a25a36"
      },
      "source": [
        "df.isnull().sum()"
      ],
      "execution_count": 84,
      "outputs": [
        {
          "output_type": "execute_result",
          "data": {
            "text/plain": [
              "Age              0\n",
              "Income           0\n",
              "SpendingScore    0\n",
              "Savings          0\n",
              "dtype: int64"
            ]
          },
          "metadata": {
            "tags": []
          },
          "execution_count": 84
        }
      ]
    },
    {
      "cell_type": "code",
      "metadata": {
        "id": "N0lSwsVjRn0F"
      },
      "source": [
        "df=df.dropna()"
      ],
      "execution_count": 85,
      "outputs": []
    },
    {
      "cell_type": "code",
      "metadata": {
        "colab": {
          "base_uri": "https://localhost:8080/"
        },
        "id": "TDT19GPkRxjs",
        "outputId": "d2d0ef60-05fa-494c-e1bc-f83ef3eba8f7"
      },
      "source": [
        "df.isnull().sum()"
      ],
      "execution_count": 86,
      "outputs": [
        {
          "output_type": "execute_result",
          "data": {
            "text/plain": [
              "Age              0\n",
              "Income           0\n",
              "SpendingScore    0\n",
              "Savings          0\n",
              "dtype: int64"
            ]
          },
          "metadata": {
            "tags": []
          },
          "execution_count": 86
        }
      ]
    },
    {
      "cell_type": "code",
      "metadata": {
        "colab": {
          "base_uri": "https://localhost:8080/"
        },
        "id": "Xsp1UT5WR1Ef",
        "outputId": "c8e19d2a-5bc5-492b-deb1-4561c88a7bf9"
      },
      "source": [
        "df.columns"
      ],
      "execution_count": 87,
      "outputs": [
        {
          "output_type": "execute_result",
          "data": {
            "text/plain": [
              "Index(['Age', 'Income', 'SpendingScore', 'Savings'], dtype='object')"
            ]
          },
          "metadata": {
            "tags": []
          },
          "execution_count": 87
        }
      ]
    },
    {
      "cell_type": "code",
      "metadata": {
        "colab": {
          "base_uri": "https://localhost:8080/"
        },
        "id": "IY3Nh0ERR77L",
        "outputId": "389f00c3-421c-4e83-bb24-d5be5e665276"
      },
      "source": [
        "df.shape"
      ],
      "execution_count": 88,
      "outputs": [
        {
          "output_type": "execute_result",
          "data": {
            "text/plain": [
              "(505, 4)"
            ]
          },
          "metadata": {
            "tags": []
          },
          "execution_count": 88
        }
      ]
    },
    {
      "cell_type": "code",
      "metadata": {
        "colab": {
          "base_uri": "https://localhost:8080/",
          "height": 618
        },
        "id": "Q9ZDUuuOSJDt",
        "outputId": "019feced-0b71-4407-cb14-213d4a0e3b23"
      },
      "source": [
        "plt.scatter(df['longitude'],df['latitude'])"
      ],
      "execution_count": 89,
      "outputs": [
        {
          "output_type": "error",
          "ename": "KeyError",
          "evalue": "ignored",
          "traceback": [
            "\u001b[0;31m---------------------------------------------------------------------------\u001b[0m",
            "\u001b[0;31mKeyError\u001b[0m                                  Traceback (most recent call last)",
            "\u001b[0;32m/usr/local/lib/python3.7/dist-packages/pandas/core/indexes/base.py\u001b[0m in \u001b[0;36mget_loc\u001b[0;34m(self, key, method, tolerance)\u001b[0m\n\u001b[1;32m   2897\u001b[0m             \u001b[0;32mtry\u001b[0m\u001b[0;34m:\u001b[0m\u001b[0;34m\u001b[0m\u001b[0;34m\u001b[0m\u001b[0m\n\u001b[0;32m-> 2898\u001b[0;31m                 \u001b[0;32mreturn\u001b[0m \u001b[0mself\u001b[0m\u001b[0;34m.\u001b[0m\u001b[0m_engine\u001b[0m\u001b[0;34m.\u001b[0m\u001b[0mget_loc\u001b[0m\u001b[0;34m(\u001b[0m\u001b[0mcasted_key\u001b[0m\u001b[0;34m)\u001b[0m\u001b[0;34m\u001b[0m\u001b[0;34m\u001b[0m\u001b[0m\n\u001b[0m\u001b[1;32m   2899\u001b[0m             \u001b[0;32mexcept\u001b[0m \u001b[0mKeyError\u001b[0m \u001b[0;32mas\u001b[0m \u001b[0merr\u001b[0m\u001b[0;34m:\u001b[0m\u001b[0;34m\u001b[0m\u001b[0;34m\u001b[0m\u001b[0m\n",
            "\u001b[0;32mpandas/_libs/index.pyx\u001b[0m in \u001b[0;36mpandas._libs.index.IndexEngine.get_loc\u001b[0;34m()\u001b[0m\n",
            "\u001b[0;32mpandas/_libs/index.pyx\u001b[0m in \u001b[0;36mpandas._libs.index.IndexEngine.get_loc\u001b[0;34m()\u001b[0m\n",
            "\u001b[0;32mpandas/_libs/hashtable_class_helper.pxi\u001b[0m in \u001b[0;36mpandas._libs.hashtable.PyObjectHashTable.get_item\u001b[0;34m()\u001b[0m\n",
            "\u001b[0;32mpandas/_libs/hashtable_class_helper.pxi\u001b[0m in \u001b[0;36mpandas._libs.hashtable.PyObjectHashTable.get_item\u001b[0;34m()\u001b[0m\n",
            "\u001b[0;31mKeyError\u001b[0m: 'longitude'",
            "\nThe above exception was the direct cause of the following exception:\n",
            "\u001b[0;31mKeyError\u001b[0m                                  Traceback (most recent call last)",
            "\u001b[0;32m<ipython-input-89-59ba8e1aba44>\u001b[0m in \u001b[0;36m<module>\u001b[0;34m()\u001b[0m\n\u001b[0;32m----> 1\u001b[0;31m \u001b[0mplt\u001b[0m\u001b[0;34m.\u001b[0m\u001b[0mscatter\u001b[0m\u001b[0;34m(\u001b[0m\u001b[0mdf\u001b[0m\u001b[0;34m[\u001b[0m\u001b[0;34m'longitude'\u001b[0m\u001b[0;34m]\u001b[0m\u001b[0;34m,\u001b[0m\u001b[0mdf\u001b[0m\u001b[0;34m[\u001b[0m\u001b[0;34m'latitude'\u001b[0m\u001b[0;34m]\u001b[0m\u001b[0;34m)\u001b[0m\u001b[0;34m\u001b[0m\u001b[0;34m\u001b[0m\u001b[0m\n\u001b[0m",
            "\u001b[0;32m/usr/local/lib/python3.7/dist-packages/pandas/core/frame.py\u001b[0m in \u001b[0;36m__getitem__\u001b[0;34m(self, key)\u001b[0m\n\u001b[1;32m   2904\u001b[0m             \u001b[0;32mif\u001b[0m \u001b[0mself\u001b[0m\u001b[0;34m.\u001b[0m\u001b[0mcolumns\u001b[0m\u001b[0;34m.\u001b[0m\u001b[0mnlevels\u001b[0m \u001b[0;34m>\u001b[0m \u001b[0;36m1\u001b[0m\u001b[0;34m:\u001b[0m\u001b[0;34m\u001b[0m\u001b[0;34m\u001b[0m\u001b[0m\n\u001b[1;32m   2905\u001b[0m                 \u001b[0;32mreturn\u001b[0m \u001b[0mself\u001b[0m\u001b[0;34m.\u001b[0m\u001b[0m_getitem_multilevel\u001b[0m\u001b[0;34m(\u001b[0m\u001b[0mkey\u001b[0m\u001b[0;34m)\u001b[0m\u001b[0;34m\u001b[0m\u001b[0;34m\u001b[0m\u001b[0m\n\u001b[0;32m-> 2906\u001b[0;31m             \u001b[0mindexer\u001b[0m \u001b[0;34m=\u001b[0m \u001b[0mself\u001b[0m\u001b[0;34m.\u001b[0m\u001b[0mcolumns\u001b[0m\u001b[0;34m.\u001b[0m\u001b[0mget_loc\u001b[0m\u001b[0;34m(\u001b[0m\u001b[0mkey\u001b[0m\u001b[0;34m)\u001b[0m\u001b[0;34m\u001b[0m\u001b[0;34m\u001b[0m\u001b[0m\n\u001b[0m\u001b[1;32m   2907\u001b[0m             \u001b[0;32mif\u001b[0m \u001b[0mis_integer\u001b[0m\u001b[0;34m(\u001b[0m\u001b[0mindexer\u001b[0m\u001b[0;34m)\u001b[0m\u001b[0;34m:\u001b[0m\u001b[0;34m\u001b[0m\u001b[0;34m\u001b[0m\u001b[0m\n\u001b[1;32m   2908\u001b[0m                 \u001b[0mindexer\u001b[0m \u001b[0;34m=\u001b[0m \u001b[0;34m[\u001b[0m\u001b[0mindexer\u001b[0m\u001b[0;34m]\u001b[0m\u001b[0;34m\u001b[0m\u001b[0;34m\u001b[0m\u001b[0m\n",
            "\u001b[0;32m/usr/local/lib/python3.7/dist-packages/pandas/core/indexes/base.py\u001b[0m in \u001b[0;36mget_loc\u001b[0;34m(self, key, method, tolerance)\u001b[0m\n\u001b[1;32m   2898\u001b[0m                 \u001b[0;32mreturn\u001b[0m \u001b[0mself\u001b[0m\u001b[0;34m.\u001b[0m\u001b[0m_engine\u001b[0m\u001b[0;34m.\u001b[0m\u001b[0mget_loc\u001b[0m\u001b[0;34m(\u001b[0m\u001b[0mcasted_key\u001b[0m\u001b[0;34m)\u001b[0m\u001b[0;34m\u001b[0m\u001b[0;34m\u001b[0m\u001b[0m\n\u001b[1;32m   2899\u001b[0m             \u001b[0;32mexcept\u001b[0m \u001b[0mKeyError\u001b[0m \u001b[0;32mas\u001b[0m \u001b[0merr\u001b[0m\u001b[0;34m:\u001b[0m\u001b[0;34m\u001b[0m\u001b[0;34m\u001b[0m\u001b[0m\n\u001b[0;32m-> 2900\u001b[0;31m                 \u001b[0;32mraise\u001b[0m \u001b[0mKeyError\u001b[0m\u001b[0;34m(\u001b[0m\u001b[0mkey\u001b[0m\u001b[0;34m)\u001b[0m \u001b[0;32mfrom\u001b[0m \u001b[0merr\u001b[0m\u001b[0;34m\u001b[0m\u001b[0;34m\u001b[0m\u001b[0m\n\u001b[0m\u001b[1;32m   2901\u001b[0m \u001b[0;34m\u001b[0m\u001b[0m\n\u001b[1;32m   2902\u001b[0m         \u001b[0;32mif\u001b[0m \u001b[0mtolerance\u001b[0m \u001b[0;32mis\u001b[0m \u001b[0;32mnot\u001b[0m \u001b[0;32mNone\u001b[0m\u001b[0;34m:\u001b[0m\u001b[0;34m\u001b[0m\u001b[0;34m\u001b[0m\u001b[0m\n",
            "\u001b[0;31mKeyError\u001b[0m: 'longitude'"
          ]
        }
      ]
    },
    {
      "cell_type": "markdown",
      "metadata": {
        "id": "MPS-U1ZgzGRe"
      },
      "source": [
        "#WORKING WITH KMEANS"
      ]
    },
    {
      "cell_type": "code",
      "metadata": {
        "id": "PdYKo6jzzX3y"
      },
      "source": [
        "from sklearn.cluster import KMeans\n",
        "#7 continents in the world\n",
        "#so k=7\n",
        "km=KMeans(n_clusters=7)"
      ],
      "execution_count": null,
      "outputs": []
    },
    {
      "cell_type": "code",
      "metadata": {
        "id": "54vJetwA0iL3"
      },
      "source": [
        "#Prep ur data\n",
        "xfeatures=df[['longitude','latitude']]"
      ],
      "execution_count": null,
      "outputs": []
    },
    {
      "cell_type": "code",
      "metadata": {
        "id": "KSXV2XrE089i"
      },
      "source": [
        "#fit n predict\n",
        "clusters=km.fit_predict(xfeatures)"
      ],
      "execution_count": null,
      "outputs": []
    },
    {
      "cell_type": "code",
      "metadata": {
        "id": "Ph3jAm6E1V3J"
      },
      "source": [
        "#Get all the labels\n",
        "km.labels_"
      ],
      "execution_count": null,
      "outputs": []
    },
    {
      "cell_type": "code",
      "metadata": {
        "colab": {
          "base_uri": "https://localhost:8080/",
          "height": 167
        },
        "id": "ld4ctnnT1msj",
        "outputId": "db951be5-33c0-4294-da45-31ff06b2bcc1"
      },
      "source": [
        " clusters"
      ],
      "execution_count": 90,
      "outputs": [
        {
          "output_type": "error",
          "ename": "NameError",
          "evalue": "ignored",
          "traceback": [
            "\u001b[0;31m---------------------------------------------------------------------------\u001b[0m",
            "\u001b[0;31mNameError\u001b[0m                                 Traceback (most recent call last)",
            "\u001b[0;32m<ipython-input-90-2e91f7692891>\u001b[0m in \u001b[0;36m<module>\u001b[0;34m()\u001b[0m\n\u001b[0;32m----> 1\u001b[0;31m \u001b[0mclusters\u001b[0m\u001b[0;34m\u001b[0m\u001b[0;34m\u001b[0m\u001b[0m\n\u001b[0m",
            "\u001b[0;31mNameError\u001b[0m: name 'clusters' is not defined"
          ]
        }
      ]
    },
    {
      "cell_type": "code",
      "metadata": {
        "id": "jxdLCjbL11kO"
      },
      "source": [
        "clusters in km.labels_"
      ],
      "execution_count": null,
      "outputs": []
    },
    {
      "cell_type": "code",
      "metadata": {
        "id": "H8Qx7uyi2WOA"
      },
      "source": [
        "km.cluster_centers_"
      ],
      "execution_count": null,
      "outputs": []
    },
    {
      "cell_type": "code",
      "metadata": {
        "id": "cCxjxdQG2l_w"
      },
      "source": [
        "df['Cluster_continents']=clusters"
      ],
      "execution_count": null,
      "outputs": []
    },
    {
      "cell_type": "code",
      "metadata": {
        "id": "_nqSNUfE-1-P"
      },
      "source": [
        "df.head()"
      ],
      "execution_count": null,
      "outputs": []
    },
    {
      "cell_type": "code",
      "metadata": {
        "colab": {
          "base_uri": "https://localhost:8080/",
          "height": 618
        },
        "id": "jcuu9r2p-3AN",
        "outputId": "f15eaf5d-5e1d-4276-b528-d3dd27e06b02"
      },
      "source": [
        "#plot of cluster\n",
        "plt.scatter(df['longitude'],df['latitude'],c=df['Cluster_continents'],cmap='rainbow')"
      ],
      "execution_count": 91,
      "outputs": [
        {
          "output_type": "error",
          "ename": "KeyError",
          "evalue": "ignored",
          "traceback": [
            "\u001b[0;31m---------------------------------------------------------------------------\u001b[0m",
            "\u001b[0;31mKeyError\u001b[0m                                  Traceback (most recent call last)",
            "\u001b[0;32m/usr/local/lib/python3.7/dist-packages/pandas/core/indexes/base.py\u001b[0m in \u001b[0;36mget_loc\u001b[0;34m(self, key, method, tolerance)\u001b[0m\n\u001b[1;32m   2897\u001b[0m             \u001b[0;32mtry\u001b[0m\u001b[0;34m:\u001b[0m\u001b[0;34m\u001b[0m\u001b[0;34m\u001b[0m\u001b[0m\n\u001b[0;32m-> 2898\u001b[0;31m                 \u001b[0;32mreturn\u001b[0m \u001b[0mself\u001b[0m\u001b[0;34m.\u001b[0m\u001b[0m_engine\u001b[0m\u001b[0;34m.\u001b[0m\u001b[0mget_loc\u001b[0m\u001b[0;34m(\u001b[0m\u001b[0mcasted_key\u001b[0m\u001b[0;34m)\u001b[0m\u001b[0;34m\u001b[0m\u001b[0;34m\u001b[0m\u001b[0m\n\u001b[0m\u001b[1;32m   2899\u001b[0m             \u001b[0;32mexcept\u001b[0m \u001b[0mKeyError\u001b[0m \u001b[0;32mas\u001b[0m \u001b[0merr\u001b[0m\u001b[0;34m:\u001b[0m\u001b[0;34m\u001b[0m\u001b[0;34m\u001b[0m\u001b[0m\n",
            "\u001b[0;32mpandas/_libs/index.pyx\u001b[0m in \u001b[0;36mpandas._libs.index.IndexEngine.get_loc\u001b[0;34m()\u001b[0m\n",
            "\u001b[0;32mpandas/_libs/index.pyx\u001b[0m in \u001b[0;36mpandas._libs.index.IndexEngine.get_loc\u001b[0;34m()\u001b[0m\n",
            "\u001b[0;32mpandas/_libs/hashtable_class_helper.pxi\u001b[0m in \u001b[0;36mpandas._libs.hashtable.PyObjectHashTable.get_item\u001b[0;34m()\u001b[0m\n",
            "\u001b[0;32mpandas/_libs/hashtable_class_helper.pxi\u001b[0m in \u001b[0;36mpandas._libs.hashtable.PyObjectHashTable.get_item\u001b[0;34m()\u001b[0m\n",
            "\u001b[0;31mKeyError\u001b[0m: 'longitude'",
            "\nThe above exception was the direct cause of the following exception:\n",
            "\u001b[0;31mKeyError\u001b[0m                                  Traceback (most recent call last)",
            "\u001b[0;32m<ipython-input-91-40bd25f88250>\u001b[0m in \u001b[0;36m<module>\u001b[0;34m()\u001b[0m\n\u001b[1;32m      1\u001b[0m \u001b[0;31m#plot of cluster\u001b[0m\u001b[0;34m\u001b[0m\u001b[0;34m\u001b[0m\u001b[0;34m\u001b[0m\u001b[0m\n\u001b[0;32m----> 2\u001b[0;31m \u001b[0mplt\u001b[0m\u001b[0;34m.\u001b[0m\u001b[0mscatter\u001b[0m\u001b[0;34m(\u001b[0m\u001b[0mdf\u001b[0m\u001b[0;34m[\u001b[0m\u001b[0;34m'longitude'\u001b[0m\u001b[0;34m]\u001b[0m\u001b[0;34m,\u001b[0m\u001b[0mdf\u001b[0m\u001b[0;34m[\u001b[0m\u001b[0;34m'latitude'\u001b[0m\u001b[0;34m]\u001b[0m\u001b[0;34m,\u001b[0m\u001b[0mc\u001b[0m\u001b[0;34m=\u001b[0m\u001b[0mdf\u001b[0m\u001b[0;34m[\u001b[0m\u001b[0;34m'Cluster_continents'\u001b[0m\u001b[0;34m]\u001b[0m\u001b[0;34m,\u001b[0m\u001b[0mcmap\u001b[0m\u001b[0;34m=\u001b[0m\u001b[0;34m'rainbow'\u001b[0m\u001b[0;34m)\u001b[0m\u001b[0;34m\u001b[0m\u001b[0;34m\u001b[0m\u001b[0m\n\u001b[0m",
            "\u001b[0;32m/usr/local/lib/python3.7/dist-packages/pandas/core/frame.py\u001b[0m in \u001b[0;36m__getitem__\u001b[0;34m(self, key)\u001b[0m\n\u001b[1;32m   2904\u001b[0m             \u001b[0;32mif\u001b[0m \u001b[0mself\u001b[0m\u001b[0;34m.\u001b[0m\u001b[0mcolumns\u001b[0m\u001b[0;34m.\u001b[0m\u001b[0mnlevels\u001b[0m \u001b[0;34m>\u001b[0m \u001b[0;36m1\u001b[0m\u001b[0;34m:\u001b[0m\u001b[0;34m\u001b[0m\u001b[0;34m\u001b[0m\u001b[0m\n\u001b[1;32m   2905\u001b[0m                 \u001b[0;32mreturn\u001b[0m \u001b[0mself\u001b[0m\u001b[0;34m.\u001b[0m\u001b[0m_getitem_multilevel\u001b[0m\u001b[0;34m(\u001b[0m\u001b[0mkey\u001b[0m\u001b[0;34m)\u001b[0m\u001b[0;34m\u001b[0m\u001b[0;34m\u001b[0m\u001b[0m\n\u001b[0;32m-> 2906\u001b[0;31m             \u001b[0mindexer\u001b[0m \u001b[0;34m=\u001b[0m \u001b[0mself\u001b[0m\u001b[0;34m.\u001b[0m\u001b[0mcolumns\u001b[0m\u001b[0;34m.\u001b[0m\u001b[0mget_loc\u001b[0m\u001b[0;34m(\u001b[0m\u001b[0mkey\u001b[0m\u001b[0;34m)\u001b[0m\u001b[0;34m\u001b[0m\u001b[0;34m\u001b[0m\u001b[0m\n\u001b[0m\u001b[1;32m   2907\u001b[0m             \u001b[0;32mif\u001b[0m \u001b[0mis_integer\u001b[0m\u001b[0;34m(\u001b[0m\u001b[0mindexer\u001b[0m\u001b[0;34m)\u001b[0m\u001b[0;34m:\u001b[0m\u001b[0;34m\u001b[0m\u001b[0;34m\u001b[0m\u001b[0m\n\u001b[1;32m   2908\u001b[0m                 \u001b[0mindexer\u001b[0m \u001b[0;34m=\u001b[0m \u001b[0;34m[\u001b[0m\u001b[0mindexer\u001b[0m\u001b[0;34m]\u001b[0m\u001b[0;34m\u001b[0m\u001b[0;34m\u001b[0m\u001b[0m\n",
            "\u001b[0;32m/usr/local/lib/python3.7/dist-packages/pandas/core/indexes/base.py\u001b[0m in \u001b[0;36mget_loc\u001b[0;34m(self, key, method, tolerance)\u001b[0m\n\u001b[1;32m   2898\u001b[0m                 \u001b[0;32mreturn\u001b[0m \u001b[0mself\u001b[0m\u001b[0;34m.\u001b[0m\u001b[0m_engine\u001b[0m\u001b[0;34m.\u001b[0m\u001b[0mget_loc\u001b[0m\u001b[0;34m(\u001b[0m\u001b[0mcasted_key\u001b[0m\u001b[0;34m)\u001b[0m\u001b[0;34m\u001b[0m\u001b[0;34m\u001b[0m\u001b[0m\n\u001b[1;32m   2899\u001b[0m             \u001b[0;32mexcept\u001b[0m \u001b[0mKeyError\u001b[0m \u001b[0;32mas\u001b[0m \u001b[0merr\u001b[0m\u001b[0;34m:\u001b[0m\u001b[0;34m\u001b[0m\u001b[0;34m\u001b[0m\u001b[0m\n\u001b[0;32m-> 2900\u001b[0;31m                 \u001b[0;32mraise\u001b[0m \u001b[0mKeyError\u001b[0m\u001b[0;34m(\u001b[0m\u001b[0mkey\u001b[0m\u001b[0;34m)\u001b[0m \u001b[0;32mfrom\u001b[0m \u001b[0merr\u001b[0m\u001b[0;34m\u001b[0m\u001b[0;34m\u001b[0m\u001b[0m\n\u001b[0m\u001b[1;32m   2901\u001b[0m \u001b[0;34m\u001b[0m\u001b[0m\n\u001b[1;32m   2902\u001b[0m         \u001b[0;32mif\u001b[0m \u001b[0mtolerance\u001b[0m \u001b[0;32mis\u001b[0m \u001b[0;32mnot\u001b[0m \u001b[0;32mNone\u001b[0m\u001b[0;34m:\u001b[0m\u001b[0;34m\u001b[0m\u001b[0;34m\u001b[0m\u001b[0m\n",
            "\u001b[0;31mKeyError\u001b[0m: 'longitude'"
          ]
        }
      ]
    },
    {
      "cell_type": "code",
      "metadata": {
        "id": "Kwd1W4gG_T7F"
      },
      "source": [
        "import geopandas as gpd\n",
        "from shapely.geometry import Point,Polygon\n",
        "import descartes"
      ],
      "execution_count": null,
      "outputs": []
    },
    {
      "cell_type": "code",
      "metadata": {
        "id": "-vXWaW_s_4Ps"
      },
      "source": [
        "!pip install geopandas"
      ],
      "execution_count": null,
      "outputs": []
    },
    {
      "cell_type": "code",
      "metadata": {
        "id": "fAJr274U_7wH"
      },
      "source": [
        "#World Map\n",
        "world=gpd.read_file(gpd.datasets.get_path('naturalearth_lowres'))\n",
        "ax=world.plot(figsize=(20,10))\n",
        "ax.axis('off')"
      ],
      "execution_count": null,
      "outputs": []
    },
    {
      "cell_type": "markdown",
      "metadata": {
        "id": "xN8ze0OmAyS4"
      },
      "source": [
        "#Overlay our clusters onto the map"
      ]
    },
    {
      "cell_type": "code",
      "metadata": {
        "id": "bafZZoD-BzLe",
        "colab": {
          "base_uri": "https://localhost:8080/",
          "height": 167
        },
        "outputId": "ca656dc4-d20f-4bd7-e91d-5f133be5d5b1"
      },
      "source": [
        "g01=gpd.GeoDataFrame(df,geometry=gpd.points_from_xy(df['longitude'],df['latitude']))"
      ],
      "execution_count": 92,
      "outputs": [
        {
          "output_type": "error",
          "ename": "NameError",
          "evalue": "ignored",
          "traceback": [
            "\u001b[0;31m---------------------------------------------------------------------------\u001b[0m",
            "\u001b[0;31mNameError\u001b[0m                                 Traceback (most recent call last)",
            "\u001b[0;32m<ipython-input-92-85134bc88f91>\u001b[0m in \u001b[0;36m<module>\u001b[0;34m()\u001b[0m\n\u001b[0;32m----> 1\u001b[0;31m \u001b[0mg01\u001b[0m\u001b[0;34m=\u001b[0m\u001b[0mgpd\u001b[0m\u001b[0;34m.\u001b[0m\u001b[0mGeoDataFrame\u001b[0m\u001b[0;34m(\u001b[0m\u001b[0mdf\u001b[0m\u001b[0;34m,\u001b[0m\u001b[0mgeometry\u001b[0m\u001b[0;34m=\u001b[0m\u001b[0mgpd\u001b[0m\u001b[0;34m.\u001b[0m\u001b[0mpoints_from_xy\u001b[0m\u001b[0;34m(\u001b[0m\u001b[0mdf\u001b[0m\u001b[0;34m[\u001b[0m\u001b[0;34m'longitude'\u001b[0m\u001b[0;34m]\u001b[0m\u001b[0;34m,\u001b[0m\u001b[0mdf\u001b[0m\u001b[0;34m[\u001b[0m\u001b[0;34m'latitude'\u001b[0m\u001b[0;34m]\u001b[0m\u001b[0;34m)\u001b[0m\u001b[0;34m)\u001b[0m\u001b[0;34m\u001b[0m\u001b[0;34m\u001b[0m\u001b[0m\n\u001b[0m",
            "\u001b[0;31mNameError\u001b[0m: name 'gpd' is not defined"
          ]
        }
      ]
    },
    {
      "cell_type": "code",
      "metadata": {
        "id": "1sur0rNEC0fC"
      },
      "source": [
        "g01"
      ],
      "execution_count": null,
      "outputs": []
    },
    {
      "cell_type": "code",
      "metadata": {
        "id": "KxRMIv-NC2Sp"
      },
      "source": [
        "fig,ax=plt.subplots(figsize=(20,10))\n",
        "g01.plot(cmap='rainbow',ax=ax)\n",
        "world.geometry.boundary.plot(color=None,edgecolor='k',linewidth=2,ax=ax)"
      ],
      "execution_count": null,
      "outputs": []
    },
    {
      "cell_type": "code",
      "metadata": {
        "id": "DUPuCY4_D0n_"
      },
      "source": [
        "plt.figure(figsize=(20,10))\n",
        "plt.scatter(df['longitude'],df['latitude'],c=df['Cluster_continents'],cmap='rainbow')\n",
        "plt.show()"
      ],
      "execution_count": null,
      "outputs": []
    },
    {
      "cell_type": "code",
      "metadata": {
        "id": "ZpznwXsvFRU_",
        "colab": {
          "base_uri": "https://localhost:8080/",
          "height": 132
        },
        "outputId": "881d8238-fff7-443f-f5b1-99e7d22fb70a"
      },
      "source": [
        "continent_dic={'SouthAmerica':2,'Nort','Asia':0,'Australasia':4,'Europe':1}"
      ],
      "execution_count": 93,
      "outputs": [
        {
          "output_type": "error",
          "ename": "SyntaxError",
          "evalue": "ignored",
          "traceback": [
            "\u001b[0;36m  File \u001b[0;32m\"<ipython-input-93-65dcbce270c7>\"\u001b[0;36m, line \u001b[0;32m1\u001b[0m\n\u001b[0;31m    continent_dic={'SouthAmerica':2,'Nort','Asia':0,'Australasia':4,'Europe':1}\u001b[0m\n\u001b[0m                                          ^\u001b[0m\n\u001b[0;31mSyntaxError\u001b[0m\u001b[0;31m:\u001b[0m invalid syntax\n"
          ]
        }
      ]
    },
    {
      "cell_type": "code",
      "metadata": {
        "id": "bTQlZ8KJmNIM"
      },
      "source": [
        "df[df['Cluster_continents']==2]"
      ],
      "execution_count": null,
      "outputs": []
    },
    {
      "cell_type": "code",
      "metadata": {
        "id": "6HuMhN2xmsUp"
      },
      "source": [
        "##Scale\n",
        "from sklearn.preprocessing import StandardScaler \n",
        "x_scaled=StandardScaler().fit_transform(xfeatures)\n",
        "x_scaled"
      ],
      "execution_count": null,
      "outputs": []
    },
    {
      "cell_type": "code",
      "metadata": {
        "id": "s160Iot7trng"
      },
      "source": [
        "km2=KMeans(n_clusters=7)\n",
        "new_clusters=km2.fit_predict(x_scaled)"
      ],
      "execution_count": null,
      "outputs": []
    },
    {
      "cell_type": "code",
      "metadata": {
        "id": "Tj0CJs1nu1Bv"
      },
      "source": [
        "df_scaled=df\n",
        "df_scaled['cluster']=new_clusters"
      ],
      "execution_count": null,
      "outputs": []
    },
    {
      "cell_type": "code",
      "metadata": {
        "id": "iXR7uG0gvcJW"
      },
      "source": [
        "df_scaled"
      ],
      "execution_count": null,
      "outputs": []
    },
    {
      "cell_type": "code",
      "metadata": {
        "id": "dtbQ6Yu7vhQO"
      },
      "source": [
        "plt.scatter(df['longitude'],df['latitude'],c=df['cluster'],cmap='rainbow')"
      ],
      "execution_count": null,
      "outputs": []
    },
    {
      "cell_type": "code",
      "metadata": {
        "id": "Z_r4rFKYwS2P"
      },
      "source": [
        "new_df1=pd.DataFrame(x_scaled,columns=['longitude','latitude'])\n",
        "new_df1['name']=df['name']\n",
        "new_df1['cluster']=new_clusters"
      ],
      "execution_count": null,
      "outputs": []
    },
    {
      "cell_type": "code",
      "metadata": {
        "id": "VF0w58XUxYoq"
      },
      "source": [
        "new_df1.head()"
      ],
      "execution_count": null,
      "outputs": []
    },
    {
      "cell_type": "code",
      "metadata": {
        "id": "W3wkVClDx3YR"
      },
      "source": [
        "plt.scatter(new_df1['longitude'],new_df1['latitude'],c=new_df1['cluster'],cmap='rainbow')"
      ],
      "execution_count": null,
      "outputs": []
    },
    {
      "cell_type": "code",
      "metadata": {
        "id": "-nfuBb23yWo4"
      },
      "source": [
        "g01=gpd.GeoDataFrame(df,geometry=gpd.points_from_xy(df['longitude'],df['latitude']))\n",
        "fig,ax=plt.subplots(figsize=(20,10))\n",
        "g01.plot(cmap='rainbow',ax=ax)\n",
        "world.geometry.boundary.plot(color=None,edgecolor='k',linewidth=2,ax=ax)"
      ],
      "execution_count": null,
      "outputs": []
    },
    {
      "cell_type": "code",
      "metadata": {
        "id": "oRDy3cwA8kMN"
      },
      "source": [
        "g02=gpd.GeoDataFrame(new_df1,geometry=gpd.points_from_xy(new_df1['longitude'],new_df1['latitude']))\n",
        "fig,ax=plt.subplots(figsize=(20,10))\n",
        "g02.plot(cmap='rainbow',ax=ax)\n",
        "world.geometry.boundary.plot(color=None,edgecolor='k',linewidth=2,ax=ax)"
      ],
      "execution_count": null,
      "outputs": []
    },
    {
      "cell_type": "code",
      "metadata": {
        "id": "kGM6GsIu9BOM"
      },
      "source": [
        "#Task 2\n"
      ],
      "execution_count": null,
      "outputs": []
    },
    {
      "cell_type": "code",
      "metadata": {
        "id": "CFZE4nq39_jk"
      },
      "source": [
        "df_cust=pd.read_csv('jewellery.csv')\n",
        "df_cust.head()"
      ],
      "execution_count": null,
      "outputs": []
    },
    {
      "cell_type": "code",
      "metadata": {
        "colab": {
          "base_uri": "https://localhost:8080/"
        },
        "id": "E8iQ6JZ3-LKS",
        "outputId": "16efcb56-fcd7-48bf-843d-38fb6c321121"
      },
      "source": [
        "#DTypes\n",
        "df_cust.dtypes"
      ],
      "execution_count": 94,
      "outputs": [
        {
          "output_type": "execute_result",
          "data": {
            "text/plain": [
              "Age                int64\n",
              "Income             int64\n",
              "SpendingScore    float64\n",
              "Savings          float64\n",
              "clusters           int32\n",
              "dtype: object"
            ]
          },
          "metadata": {
            "tags": []
          },
          "execution_count": 94
        }
      ]
    },
    {
      "cell_type": "code",
      "metadata": {
        "colab": {
          "base_uri": "https://localhost:8080/",
          "height": 294
        },
        "id": "MUlk7IIM-oM6",
        "outputId": "a1db5c1f-c495-403f-ea7c-5b9491f359c9"
      },
      "source": [
        "df_cust.describe()"
      ],
      "execution_count": 95,
      "outputs": [
        {
          "output_type": "execute_result",
          "data": {
            "text/html": [
              "<div>\n",
              "<style scoped>\n",
              "    .dataframe tbody tr th:only-of-type {\n",
              "        vertical-align: middle;\n",
              "    }\n",
              "\n",
              "    .dataframe tbody tr th {\n",
              "        vertical-align: top;\n",
              "    }\n",
              "\n",
              "    .dataframe thead th {\n",
              "        text-align: right;\n",
              "    }\n",
              "</style>\n",
              "<table border=\"1\" class=\"dataframe\">\n",
              "  <thead>\n",
              "    <tr style=\"text-align: right;\">\n",
              "      <th></th>\n",
              "      <th>Age</th>\n",
              "      <th>Income</th>\n",
              "      <th>SpendingScore</th>\n",
              "      <th>Savings</th>\n",
              "      <th>clusters</th>\n",
              "    </tr>\n",
              "  </thead>\n",
              "  <tbody>\n",
              "    <tr>\n",
              "      <th>count</th>\n",
              "      <td>505.000000</td>\n",
              "      <td>505.000000</td>\n",
              "      <td>505.000000</td>\n",
              "      <td>505.000000</td>\n",
              "      <td>505.000000</td>\n",
              "    </tr>\n",
              "    <tr>\n",
              "      <th>mean</th>\n",
              "      <td>59.019802</td>\n",
              "      <td>75513.291089</td>\n",
              "      <td>0.505083</td>\n",
              "      <td>11862.455867</td>\n",
              "      <td>1.302970</td>\n",
              "    </tr>\n",
              "    <tr>\n",
              "      <th>std</th>\n",
              "      <td>24.140043</td>\n",
              "      <td>35992.922184</td>\n",
              "      <td>0.259634</td>\n",
              "      <td>4949.229253</td>\n",
              "      <td>1.039541</td>\n",
              "    </tr>\n",
              "    <tr>\n",
              "      <th>min</th>\n",
              "      <td>17.000000</td>\n",
              "      <td>12000.000000</td>\n",
              "      <td>0.000000</td>\n",
              "      <td>0.000000</td>\n",
              "      <td>0.000000</td>\n",
              "    </tr>\n",
              "    <tr>\n",
              "      <th>25%</th>\n",
              "      <td>34.000000</td>\n",
              "      <td>34529.000000</td>\n",
              "      <td>0.304792</td>\n",
              "      <td>6828.709702</td>\n",
              "      <td>0.000000</td>\n",
              "    </tr>\n",
              "    <tr>\n",
              "      <th>50%</th>\n",
              "      <td>59.000000</td>\n",
              "      <td>75078.000000</td>\n",
              "      <td>0.368215</td>\n",
              "      <td>14209.932802</td>\n",
              "      <td>1.000000</td>\n",
              "    </tr>\n",
              "    <tr>\n",
              "      <th>75%</th>\n",
              "      <td>85.000000</td>\n",
              "      <td>107100.000000</td>\n",
              "      <td>0.768279</td>\n",
              "      <td>16047.268331</td>\n",
              "      <td>2.000000</td>\n",
              "    </tr>\n",
              "    <tr>\n",
              "      <th>max</th>\n",
              "      <td>97.000000</td>\n",
              "      <td>142000.000000</td>\n",
              "      <td>1.000000</td>\n",
              "      <td>20000.000000</td>\n",
              "      <td>3.000000</td>\n",
              "    </tr>\n",
              "  </tbody>\n",
              "</table>\n",
              "</div>"
            ],
            "text/plain": [
              "              Age         Income  SpendingScore       Savings    clusters\n",
              "count  505.000000     505.000000     505.000000    505.000000  505.000000\n",
              "mean    59.019802   75513.291089       0.505083  11862.455867    1.302970\n",
              "std     24.140043   35992.922184       0.259634   4949.229253    1.039541\n",
              "min     17.000000   12000.000000       0.000000      0.000000    0.000000\n",
              "25%     34.000000   34529.000000       0.304792   6828.709702    0.000000\n",
              "50%     59.000000   75078.000000       0.368215  14209.932802    1.000000\n",
              "75%     85.000000  107100.000000       0.768279  16047.268331    2.000000\n",
              "max     97.000000  142000.000000       1.000000  20000.000000    3.000000"
            ]
          },
          "metadata": {
            "tags": []
          },
          "execution_count": 95
        }
      ]
    },
    {
      "cell_type": "code",
      "metadata": {
        "colab": {
          "base_uri": "https://localhost:8080/",
          "height": 282
        },
        "id": "9FYmgksH-zAT",
        "outputId": "bbe1168c-f6ff-4b2c-cceb-0451fc9eadd3"
      },
      "source": [
        "plt.scatter(df_cust['Age'],df_cust['Income'])"
      ],
      "execution_count": 96,
      "outputs": [
        {
          "output_type": "execute_result",
          "data": {
            "text/plain": [
              "<matplotlib.collections.PathCollection at 0x7f5ecd49a590>"
            ]
          },
          "metadata": {
            "tags": []
          },
          "execution_count": 96
        },
        {
          "output_type": "display_data",
          "data": {
            "image/png": "[encoded data removed]",
            "text/plain": [
              "<Figure size 432x288 with 1 Axes>"
            ]
          },
          "metadata": {
            "tags": [],
            "needs_background": "light"
          }
        }
      ]
    },
    {
      "cell_type": "code",
      "metadata": {
        "id": "XP6YVMXm_SFo"
      },
      "source": [
        "#Groups based on Age and Income\n"
      ],
      "execution_count": 97,
      "outputs": []
    },
    {
      "cell_type": "markdown",
      "metadata": {
        "id": "RtjjWwkJAGkN"
      },
      "source": [
        "ELbow Method"
      ]
    },
    {
      "cell_type": "code",
      "metadata": {
        "id": "0Ona0uZVAxkn"
      },
      "source": [
        "sum_of_sqr_distance=[]\n",
        "k_range=range(1,15)\n",
        "for k in k_range:\n",
        "    km_model2=KMeans(n_clusters=k)\n",
        "    km_model2.fit(df_cust)\n",
        "    sum_of_sqr_distance.append(km_model2.inertia_)\n"
      ],
      "execution_count": 98,
      "outputs": []
    },
    {
      "cell_type": "code",
      "metadata": {
        "colab": {
          "base_uri": "https://localhost:8080/",
          "height": 294
        },
        "id": "9DtvxLT5BWHr",
        "outputId": "36213129-0632-4e56-f5c1-92b92320b684"
      },
      "source": [
        "#Plot for Elbow Method\n",
        "plt.plot(k_range,sum_of_sqr_distance)\n",
        "plt.xlabel('K-CLusters')\n",
        "plt.ylabel('Sum_sd')\n",
        "plt.title('ELBOW METHOD FOR BETTER VALIDATION')\n",
        "plt.show()"
      ],
      "execution_count": 99,
      "outputs": [
        {
          "output_type": "display_data",
          "data": {
            "image/png": "[encoded data removed]",
            "text/plain": [
              "<Figure size 432x288 with 1 Axes>"
            ]
          },
          "metadata": {
            "tags": [],
            "needs_background": "light"
          }
        }
      ]
    },
    {
      "cell_type": "code",
      "metadata": {
        "colab": {
          "base_uri": "https://localhost:8080/"
        },
        "id": "fK4wz3wlCF8j",
        "outputId": "24c7442f-8900-4c0c-ffb4-81aa0b6d4e92"
      },
      "source": [
        "from sklearn.metrics import silhouette_score,silhouette_samples\n",
        "\n",
        "range_n_clusters = [2, 3, 4, 5, 6]\n",
        "for n_clusters in range_n_clusters:\n",
        "    km_models3 = KMeans(n_clusters=n_clusters)\n",
        "    preds = km_models3.fit_predict(df_cust)\n",
        "    centers = km_models3.cluster_centers_\n",
        "\n",
        "    score = silhouette_score(df_cust, preds)\n",
        "    print(\"For n_clusters = {}, silhouette score is {})\".format(n_clusters, score))"
      ],
      "execution_count": 100,
      "outputs": [
        {
          "output_type": "stream",
          "text": [
            "For n_clusters = 2, silhouette score is 0.6547312337699506)\n",
            "For n_clusters = 3, silhouette score is 0.7393168519975208)\n",
            "For n_clusters = 4, silhouette score is 0.7207226021609822)\n",
            "For n_clusters = 5, silhouette score is 0.6376763323274897)\n",
            "For n_clusters = 6, silhouette score is 0.5781815657659974)\n"
          ],
          "name": "stdout"
        }
      ]
    },
    {
      "cell_type": "code",
      "metadata": {
        "id": "R9Fekg9jofAr"
      },
      "source": [
        "# Init Model\n",
        "km3 = KMeans(n_clusters=4)"
      ],
      "execution_count": 101,
      "outputs": []
    },
    {
      "cell_type": "code",
      "metadata": {
        "id": "jd3rUi4Rqsyt"
      },
      "source": [
        "y_pred = km3.fit_predict(df_cust)"
      ],
      "execution_count": 102,
      "outputs": []
    },
    {
      "cell_type": "code",
      "metadata": {
        "colab": {
          "base_uri": "https://localhost:8080/"
        },
        "id": "dvbfWWKFqvZb",
        "outputId": "27cdd0e9-7e62-4b4c-e797-b293c66171e0"
      },
      "source": [
        "y_pred"
      ],
      "execution_count": 103,
      "outputs": [
        {
          "output_type": "execute_result",
          "data": {
            "text/plain": [
              "array([0, 0, 0, 0, 2, 3, 0, 2, 2, 2, 1, 1, 1, 1, 0, 3, 0, 2, 2, 3, 1, 3,\n",
              "       0, 2, 3, 3, 3, 0, 2, 0, 0, 0, 2, 0, 1, 0, 2, 0, 1, 1, 0, 2, 3, 0,\n",
              "       0, 3, 3, 3, 1, 0, 2, 1, 3, 2, 0, 2, 1, 2, 2, 2, 2, 2, 2, 0, 0, 0,\n",
              "       2, 3, 3, 0, 0, 1, 2, 2, 1, 0, 1, 0, 0, 3, 0, 1, 0, 2, 2, 1, 1, 0,\n",
              "       0, 0, 0, 0, 3, 2, 0, 3, 1, 0, 0, 1, 1, 3, 1, 3, 1, 2, 2, 1, 1, 0,\n",
              "       2, 1, 0, 1, 1, 1, 0, 1, 3, 2, 1, 2, 2, 2, 1, 3, 0, 2, 0, 0, 1, 0,\n",
              "       1, 0, 3, 2, 3, 3, 0, 1, 2, 0, 0, 3, 0, 3, 0, 3, 0, 2, 0, 1, 2, 0,\n",
              "       2, 1, 1, 0, 2, 0, 1, 2, 0, 1, 2, 1, 2, 0, 1, 0, 2, 0, 1, 0, 2, 0,\n",
              "       0, 2, 2, 2, 0, 0, 1, 3, 3, 2, 1, 0, 0, 0, 1, 2, 0, 0, 0, 2, 3, 1,\n",
              "       2, 2, 2, 1, 0, 1, 0, 1, 0, 2, 3, 0, 2, 2, 2, 2, 0, 2, 1, 3, 1, 2,\n",
              "       0, 0, 1, 2, 3, 3, 1, 0, 0, 2, 0, 0, 2, 0, 0, 0, 1, 0, 1, 1, 3, 0,\n",
              "       0, 0, 3, 0, 1, 2, 3, 3, 3, 2, 0, 1, 2, 2, 1, 1, 0, 0, 3, 0, 0, 2,\n",
              "       0, 2, 1, 3, 0, 1, 2, 0, 2, 2, 1, 0, 2, 2, 0, 0, 2, 1, 1, 3, 1, 2,\n",
              "       2, 1, 3, 2, 2, 3, 0, 1, 1, 0, 1, 2, 2, 1, 0, 1, 2, 0, 1, 3, 0, 2,\n",
              "       1, 1, 2, 3, 1, 0, 2, 1, 0, 0, 2, 1, 2, 1, 2, 1, 2, 2, 1, 2, 1, 0,\n",
              "       1, 0, 0, 1, 1, 2, 2, 3, 3, 1, 2, 3, 2, 1, 0, 0, 0, 2, 2, 1, 1, 3,\n",
              "       3, 3, 0, 1, 3, 2, 0, 2, 3, 0, 2, 2, 0, 2, 1, 0, 1, 1, 1, 0, 2, 2,\n",
              "       2, 2, 2, 1, 1, 2, 0, 1, 1, 3, 2, 2, 0, 2, 2, 0, 2, 2, 1, 2, 0, 1,\n",
              "       3, 1, 0, 2, 1, 0, 0, 0, 2, 1, 3, 1, 0, 1, 0, 0, 3, 1, 3, 3, 1, 1,\n",
              "       2, 0, 2, 1, 2, 1, 0, 0, 2, 3, 1, 2, 1, 0, 0, 1, 0, 2, 0, 1, 0, 2,\n",
              "       0, 2, 3, 1, 1, 3, 1, 1, 2, 2, 0, 3, 0, 1, 1, 3, 3, 1, 3, 2, 1, 1,\n",
              "       0, 1, 2, 2, 3, 0, 3, 0, 0, 1, 0, 0, 0, 2, 1, 1, 0, 0, 0, 2, 1, 2,\n",
              "       2, 2, 2, 3, 2, 2, 2, 0, 0, 2, 2, 0, 3, 2, 1, 3, 1, 2, 2, 2, 2],\n",
              "      dtype=int32)"
            ]
          },
          "metadata": {
            "tags": []
          },
          "execution_count": 103
        }
      ]
    },
    {
      "cell_type": "code",
      "metadata": {
        "colab": {
          "base_uri": "https://localhost:8080/"
        },
        "id": "8x-jYks7qyRS",
        "outputId": "8d3a09d9-7cc3-433c-f8d3-668467c60acf"
      },
      "source": [
        "\n",
        "km3.cluster_centers_"
      ],
      "execution_count": 104,
      "outputs": [
        {
          "output_type": "execute_result",
          "data": {
            "text/plain": [
              "array([[5.99615385e+01, 7.23328462e+04, 7.71295985e-01, 6.89089329e+03,\n",
              "        2.00000000e+00],\n",
              "       [3.54230769e+01, 1.05228392e+05, 3.02152694e-01, 1.49378365e+04,\n",
              "        1.00000000e+00],\n",
              "       [8.77755102e+01, 2.78661020e+04, 3.28800461e-01, 1.66592614e+04,\n",
              "        4.44089210e-16],\n",
              "       [4.08750000e+01, 1.26031667e+05, 6.54598429e-01, 7.28792610e+03,\n",
              "        3.00000000e+00]])"
            ]
          },
          "metadata": {
            "tags": []
          },
          "execution_count": 104
        }
      ]
    },
    {
      "cell_type": "code",
      "metadata": {
        "colab": {
          "base_uri": "https://localhost:8080/",
          "height": 202
        },
        "id": "LVpcPOXArL7y",
        "outputId": "b8feb058-ae9e-465c-82e1-25a56abf1394"
      },
      "source": [
        "df_cust.head()"
      ],
      "execution_count": 105,
      "outputs": [
        {
          "output_type": "execute_result",
          "data": {
            "text/html": [
              "<div>\n",
              "<style scoped>\n",
              "    .dataframe tbody tr th:only-of-type {\n",
              "        vertical-align: middle;\n",
              "    }\n",
              "\n",
              "    .dataframe tbody tr th {\n",
              "        vertical-align: top;\n",
              "    }\n",
              "\n",
              "    .dataframe thead th {\n",
              "        text-align: right;\n",
              "    }\n",
              "</style>\n",
              "<table border=\"1\" class=\"dataframe\">\n",
              "  <thead>\n",
              "    <tr style=\"text-align: right;\">\n",
              "      <th></th>\n",
              "      <th>Age</th>\n",
              "      <th>Income</th>\n",
              "      <th>SpendingScore</th>\n",
              "      <th>Savings</th>\n",
              "      <th>clusters</th>\n",
              "    </tr>\n",
              "  </thead>\n",
              "  <tbody>\n",
              "    <tr>\n",
              "      <th>0</th>\n",
              "      <td>58</td>\n",
              "      <td>77769</td>\n",
              "      <td>0.791329</td>\n",
              "      <td>6559.829923</td>\n",
              "      <td>2</td>\n",
              "    </tr>\n",
              "    <tr>\n",
              "      <th>1</th>\n",
              "      <td>59</td>\n",
              "      <td>81799</td>\n",
              "      <td>0.791082</td>\n",
              "      <td>5417.661426</td>\n",
              "      <td>2</td>\n",
              "    </tr>\n",
              "    <tr>\n",
              "      <th>2</th>\n",
              "      <td>62</td>\n",
              "      <td>74751</td>\n",
              "      <td>0.702657</td>\n",
              "      <td>9258.992965</td>\n",
              "      <td>2</td>\n",
              "    </tr>\n",
              "    <tr>\n",
              "      <th>3</th>\n",
              "      <td>59</td>\n",
              "      <td>74373</td>\n",
              "      <td>0.765680</td>\n",
              "      <td>7346.334504</td>\n",
              "      <td>2</td>\n",
              "    </tr>\n",
              "    <tr>\n",
              "      <th>4</th>\n",
              "      <td>87</td>\n",
              "      <td>17760</td>\n",
              "      <td>0.348778</td>\n",
              "      <td>16869.507130</td>\n",
              "      <td>0</td>\n",
              "    </tr>\n",
              "  </tbody>\n",
              "</table>\n",
              "</div>"
            ],
            "text/plain": [
              "   Age  Income  SpendingScore       Savings  clusters\n",
              "0   58   77769       0.791329   6559.829923         2\n",
              "1   59   81799       0.791082   5417.661426         2\n",
              "2   62   74751       0.702657   9258.992965         2\n",
              "3   59   74373       0.765680   7346.334504         2\n",
              "4   87   17760       0.348778  16869.507130         0"
            ]
          },
          "metadata": {
            "tags": []
          },
          "execution_count": 105
        }
      ]
    },
    {
      "cell_type": "code",
      "metadata": {
        "id": "uOjYl2IFrSJc"
      },
      "source": [
        "df_cust['clusters']=y_pred"
      ],
      "execution_count": 106,
      "outputs": []
    },
    {
      "cell_type": "code",
      "metadata": {
        "colab": {
          "base_uri": "https://localhost:8080/",
          "height": 202
        },
        "id": "uhr1i2WLrW5E",
        "outputId": "c1084177-3ee8-4125-910b-007d8529ae07"
      },
      "source": [
        "df_cust.head()"
      ],
      "execution_count": 107,
      "outputs": [
        {
          "output_type": "execute_result",
          "data": {
            "text/html": [
              "<div>\n",
              "<style scoped>\n",
              "    .dataframe tbody tr th:only-of-type {\n",
              "        vertical-align: middle;\n",
              "    }\n",
              "\n",
              "    .dataframe tbody tr th {\n",
              "        vertical-align: top;\n",
              "    }\n",
              "\n",
              "    .dataframe thead th {\n",
              "        text-align: right;\n",
              "    }\n",
              "</style>\n",
              "<table border=\"1\" class=\"dataframe\">\n",
              "  <thead>\n",
              "    <tr style=\"text-align: right;\">\n",
              "      <th></th>\n",
              "      <th>Age</th>\n",
              "      <th>Income</th>\n",
              "      <th>SpendingScore</th>\n",
              "      <th>Savings</th>\n",
              "      <th>clusters</th>\n",
              "    </tr>\n",
              "  </thead>\n",
              "  <tbody>\n",
              "    <tr>\n",
              "      <th>0</th>\n",
              "      <td>58</td>\n",
              "      <td>77769</td>\n",
              "      <td>0.791329</td>\n",
              "      <td>6559.829923</td>\n",
              "      <td>0</td>\n",
              "    </tr>\n",
              "    <tr>\n",
              "      <th>1</th>\n",
              "      <td>59</td>\n",
              "      <td>81799</td>\n",
              "      <td>0.791082</td>\n",
              "      <td>5417.661426</td>\n",
              "      <td>0</td>\n",
              "    </tr>\n",
              "    <tr>\n",
              "      <th>2</th>\n",
              "      <td>62</td>\n",
              "      <td>74751</td>\n",
              "      <td>0.702657</td>\n",
              "      <td>9258.992965</td>\n",
              "      <td>0</td>\n",
              "    </tr>\n",
              "    <tr>\n",
              "      <th>3</th>\n",
              "      <td>59</td>\n",
              "      <td>74373</td>\n",
              "      <td>0.765680</td>\n",
              "      <td>7346.334504</td>\n",
              "      <td>0</td>\n",
              "    </tr>\n",
              "    <tr>\n",
              "      <th>4</th>\n",
              "      <td>87</td>\n",
              "      <td>17760</td>\n",
              "      <td>0.348778</td>\n",
              "      <td>16869.507130</td>\n",
              "      <td>2</td>\n",
              "    </tr>\n",
              "  </tbody>\n",
              "</table>\n",
              "</div>"
            ],
            "text/plain": [
              "   Age  Income  SpendingScore       Savings  clusters\n",
              "0   58   77769       0.791329   6559.829923         0\n",
              "1   59   81799       0.791082   5417.661426         0\n",
              "2   62   74751       0.702657   9258.992965         0\n",
              "3   59   74373       0.765680   7346.334504         0\n",
              "4   87   17760       0.348778  16869.507130         2"
            ]
          },
          "metadata": {
            "tags": []
          },
          "execution_count": 107
        }
      ]
    },
    {
      "cell_type": "code",
      "metadata": {
        "colab": {
          "base_uri": "https://localhost:8080/"
        },
        "id": "tDbuQGw-raPO",
        "outputId": "a4f07dfe-21b4-479e-d1f2-70c044bfd391"
      },
      "source": [
        "df_cust['clusters'].unique()"
      ],
      "execution_count": 108,
      "outputs": [
        {
          "output_type": "execute_result",
          "data": {
            "text/plain": [
              "array([0, 2, 3, 1], dtype=int32)"
            ]
          },
          "metadata": {
            "tags": []
          },
          "execution_count": 108
        }
      ]
    },
    {
      "cell_type": "code",
      "metadata": {
        "id": "gQf92_3UriBP"
      },
      "source": [
        "df0 = df_cust[df_cust['clusters'] == 0]\n",
        "df01 = df_cust[df_cust['clusters'] == 1]\n",
        "df02 = df_cust[df_cust['clusters'] == 2]\n",
        "df03 = df_cust[df_cust['clusters'] == 3]"
      ],
      "execution_count": 109,
      "outputs": []
    },
    {
      "cell_type": "code",
      "metadata": {
        "colab": {
          "base_uri": "https://localhost:8080/",
          "height": 296
        },
        "id": "UzTnkaObsrvm",
        "outputId": "7c0db562-b35c-472b-96f2-7c714ef613eb"
      },
      "source": [
        "#plot scatter of clusters\n",
        "plt.scatter(df0['Age'],df0['Savings'],color='blue')\n",
        "plt.scatter(df01['Age'],df01['Savings'],color='green')\n",
        "plt.scatter(df02['Age'],df02['Savings'],color='red')\n",
        "plt.scatter(df03['Age'],df03['Savings'],color='yellow')\n",
        "plt.xlabel('Features')\n",
        "plt.ylabel('Cluster')\n",
        "\n"
      ],
      "execution_count": 110,
      "outputs": [
        {
          "output_type": "execute_result",
          "data": {
            "text/plain": [
              "Text(0, 0.5, 'Cluster')"
            ]
          },
          "metadata": {
            "tags": []
          },
          "execution_count": 110
        },
        {
          "output_type": "display_data",
          "data": {
            "image/png": "[encoded data removed]",
            "text/plain": [
              "<Figure size 432x288 with 1 Axes>"
            ]
          },
          "metadata": {
            "tags": [],
            "needs_background": "light"
          }
        }
      ]
    },
    {
      "cell_type": "code",
      "metadata": {
        "colab": {
          "base_uri": "https://localhost:8080/",
          "height": 264
        },
        "id": "OH0lrw_AtROm",
        "outputId": "2122321b-dfcc-4b11-f896-93fc5c07f007"
      },
      "source": [
        "plt.scatter(df_cust['Age'],df_cust['Savings'],color='blue')\n",
        "plt.show()"
      ],
      "execution_count": 111,
      "outputs": [
        {
          "output_type": "display_data",
          "data": {
            "image/png": "[encoded data removed]",
            "text/plain": [
              "<Figure size 432x288 with 1 Axes>"
            ]
          },
          "metadata": {
            "tags": [],
            "needs_background": "light"
          }
        }
      ]
    },
    {
      "cell_type": "code",
      "metadata": {
        "colab": {
          "base_uri": "https://localhost:8080/"
        },
        "id": "aTUlOYwCtpMC",
        "outputId": "7647c3ae-2285-4b2b-96de-03cac2b714f5"
      },
      "source": [
        "km3.cluster_centers_"
      ],
      "execution_count": 112,
      "outputs": [
        {
          "output_type": "execute_result",
          "data": {
            "text/plain": [
              "array([[5.99615385e+01, 7.23328462e+04, 7.71295985e-01, 6.89089329e+03,\n",
              "        2.00000000e+00],\n",
              "       [3.54230769e+01, 1.05228392e+05, 3.02152694e-01, 1.49378365e+04,\n",
              "        1.00000000e+00],\n",
              "       [8.77755102e+01, 2.78661020e+04, 3.28800461e-01, 1.66592614e+04,\n",
              "        4.44089210e-16],\n",
              "       [4.08750000e+01, 1.26031667e+05, 6.54598429e-01, 7.28792610e+03,\n",
              "        3.00000000e+00]])"
            ]
          },
          "metadata": {
            "tags": []
          },
          "execution_count": 112
        }
      ]
    },
    {
      "cell_type": "code",
      "metadata": {
        "colab": {
          "base_uri": "https://localhost:8080/",
          "height": 296
        },
        "id": "_RyULj38v4qs",
        "outputId": "3cec97cd-85a9-41e4-984a-14d10502e9a7"
      },
      "source": [
        "plt.scatter(df0['Age'],df0['Savings'],color='black')\n",
        "plt.scatter(df01['Age'],df01['Savings'],color='green')\n",
        "plt.scatter(df02['Age'],df02['Savings'],color='red')\n",
        "plt.scatter(df03['Age'],df03['Savings'],color='yellow')\n",
        "plt.scatter(km3.cluster_centers_[:,0],km3.cluster_centers_[:,3],color='purple',marker='*',label='centroids')\n",
        "plt.xlabel('Features')\n",
        "plt.ylabel('CLuster')\n",
        "plt.legend()"
      ],
      "execution_count": 113,
      "outputs": [
        {
          "output_type": "execute_result",
          "data": {
            "text/plain": [
              "<matplotlib.legend.Legend at 0x7f5ecd234c10>"
            ]
          },
          "metadata": {
            "tags": []
          },
          "execution_count": 113
        },
        {
          "output_type": "display_data",
          "data": {
            "image/png": "[encoded data removed]",
            "text/plain": [
              "<Figure size 432x288 with 1 Axes>"
            ]
          },
          "metadata": {
            "tags": [],
            "needs_background": "light"
          }
        }
      ]
    },
    {
      "cell_type": "markdown",
      "metadata": {
        "id": "-hkRIAErxopI"
      },
      "source": [
        "#Using silhouette plot"
      ]
    },
    {
      "cell_type": "code",
      "metadata": {
        "id": "3wgU3sruJYkH"
      },
      "source": [
        "import matplotlib.cm as cm\n",
        "from sklearn.metrics import silhouette_samples, silhouette_score\n",
        "def silhouette_plot(X, y, n_clusters, ax=None):\n",
        "\tif ax is None:\n",
        "\t\tax = plt.gca()\n",
        "\t\t# Compute the silhouette scores for each sample\n",
        "\t\tsilhouette_avg = silhouette_score(X, y)\n",
        "\t\tsample_silhouette_values = silhouette_samples(X, y)\n",
        "\t\ty_lower = padding = 2\n",
        "\t\tfor i in range(n_clusters):\n",
        "\t# Aggregate the silhouette scores for samples belonging to\n",
        "\t\t\tith_cluster_silhouette_values = sample_silhouette_values[y == i]\n",
        "\t\t\tith_cluster_silhouette_values.sort()\n",
        "\t\t\tsize_cluster_i = ith_cluster_silhouette_values.shape[0]\n",
        "\t\t\ty_upper = y_lower + size_cluster_i\n",
        "\t\t\tcolor = cm.nipy_spectral(float(i) / n_clusters)\n",
        "\t\t\tax.fill_betweenx(np.arange(y_lower, y_upper),\n",
        "\t\t\t\t\t\t\t0,ith_cluster_silhouette_values,\n",
        "\t\t\t\t\t\t\tfacecolor=color,\n",
        "\t\t\t\t\t\t\tedgecolor=color,\n",
        "\t\t\t\t\t\t\talpha=0.7)\n",
        "\t\t\t# Label the silhouette plots with their cluster numbers at the middle\n",
        "\t\t\tax.text(-0.05, y_lower + 0.5 * size_cluster_i, str(i + 1))\n",
        "\t\t\t# Compute the new y_lower for next plot\n",
        "\t\t\ty_lower = y_upper + padding\n",
        "\t\tax.set_xlabel(\"The silhouette coefficient values\")\n",
        "\t\tax.set_ylabel(\"Cluster label\")\n",
        "\t\t# The vertical line for average silhoutte score of all the values\n",
        "\t\tax.axvline(x=silhouette_avg, c='r', alpha=0.8, lw=0.8, ls='-')\n",
        "\t\tax.annotate('Average',\n",
        "\t\t\t\t\txytext=(silhouette_avg, y_lower * 1.025),\n",
        "\t\t\t\t\txy=(0, 0),\n",
        "\t\t\t\t\tha='center',\n",
        "\t\t\t\t\talpha=0.8,\n",
        "\t\t\t\t\tc='r')\n",
        "\t\tax.set_yticks([]) # Clear the yaxis labels / ticks\n",
        "\t\tax.set_xticks([0, 0.2, 0.4, 0.6, 0.8, 1])\n",
        "\t\tax.set_ylim(0, y_upper + 1)\n",
        "\t\tax.set_xlim(-0.075, 1.0)\n",
        "\t\treturn ax"
      ],
      "execution_count": 114,
      "outputs": []
    },
    {
      "cell_type": "code",
      "metadata": {
        "colab": {
          "base_uri": "https://localhost:8080/",
          "height": 311
        },
        "id": "p0e9KouyKKxj",
        "outputId": "ee8317a2-4899-468f-abd2-a7e7363eb4d7"
      },
      "source": [
        "silhouette_plot(df_cust,y_pred,3,ax=None)"
      ],
      "execution_count": 115,
      "outputs": [
        {
          "output_type": "execute_result",
          "data": {
            "text/plain": [
              "<matplotlib.axes._subplots.AxesSubplot at 0x7f5ecd2d38d0>"
            ]
          },
          "metadata": {
            "tags": []
          },
          "execution_count": 115
        },
        {
          "output_type": "display_data",
          "data": {
            "image/png": "[encoded data removed]",
            "text/plain": [
              "<Figure size 432x288 with 1 Axes>"
            ]
          },
          "metadata": {
            "tags": [],
            "needs_background": "light"
          }
        }
      ]
    },
    {
      "cell_type": "code",
      "metadata": {
        "colab": {
          "base_uri": "https://localhost:8080/",
          "height": 311
        },
        "id": "Zmb-Ys7SK8WA",
        "outputId": "ea1656f5-9813-48b5-8083-0865ae713c6b"
      },
      "source": [
        "silhouette_plot(df_cust,y_pred,4,ax=None)"
      ],
      "execution_count": 116,
      "outputs": [
        {
          "output_type": "execute_result",
          "data": {
            "text/plain": [
              "<matplotlib.axes._subplots.AxesSubplot at 0x7f5ecd1f3650>"
            ]
          },
          "metadata": {
            "tags": []
          },
          "execution_count": 116
        },
        {
          "output_type": "display_data",
          "data": {
            "image/png": "[encoded data removed]",
            "text/plain": [
              "<Figure size 432x288 with 1 Axes>"
            ]
          },
          "metadata": {
            "tags": [],
            "needs_background": "light"
          }
        }
      ]
    },
    {
      "cell_type": "markdown",
      "metadata": {
        "id": "BpE9FHXkLZ2_"
      },
      "source": [
        "DBSCAN\n",
        "Usefulness\n",
        "Unsupervised ML\n",
        "Outlier Detection\n",
        "Noise detection\n",
        "Terms\n",
        "The DBSCAN algorithm uses two parameters:\n",
        "\n",
        "eps (ε): A distance measure that will be used to locate the points in the neighborhood of any point.\n",
        "\n",
        "minPts: The minimum number of points (a threshold) clustered together for a region to be considered dense.\n",
        "\n",
        "minPt >= Dimensions of dataset + 1\n",
        "Core point — This is a point that has at least m points within distance n from itself.\n",
        "\n",
        "Border — This is a point that has at least one Core point at a distance n.\n",
        "Noise — This is a point that is neither a Core nor a Border. And it has less than m points within distance n from itself.\n",
        "These parameters can be understood if we explore two concepts called Density Reachability and Density Connectivity.\n",
        "\n",
        "Reachability in terms of density establishes a point to be reachable from another if it lies within a particular distance (eps) from it.\n",
        "\n",
        "Connectivity, on the other hand, involves a transitivity based chaining-approach to determine whether points are located in a particular cluster. For example, p and q points could be connected if p->r->s->t->q, where a->b means b is in the neighborhood of a."
      ]
    },
    {
      "cell_type": "code",
      "metadata": {
        "id": "RrhvhD8ZSeuP"
      },
      "source": [
        "dfj=pd.read_csv('jewellery.csv')"
      ],
      "execution_count": 117,
      "outputs": []
    },
    {
      "cell_type": "code",
      "metadata": {
        "colab": {
          "base_uri": "https://localhost:8080/"
        },
        "id": "es1_401XUCNf",
        "outputId": "66bfdbff-03e9-49bd-d568-9c2e31ee086e"
      },
      "source": [
        "dfj.shape"
      ],
      "execution_count": 118,
      "outputs": [
        {
          "output_type": "execute_result",
          "data": {
            "text/plain": [
              "(505, 4)"
            ]
          },
          "metadata": {
            "tags": []
          },
          "execution_count": 118
        }
      ]
    },
    {
      "cell_type": "code",
      "metadata": {
        "colab": {
          "base_uri": "https://localhost:8080/",
          "height": 202
        },
        "id": "RdTx3B7ZUDUe",
        "outputId": "3464372f-90e9-4e87-8457-ca03c18a381a"
      },
      "source": [
        "dfj.head()"
      ],
      "execution_count": 119,
      "outputs": [
        {
          "output_type": "execute_result",
          "data": {
            "text/html": [
              "<div>\n",
              "<style scoped>\n",
              "    .dataframe tbody tr th:only-of-type {\n",
              "        vertical-align: middle;\n",
              "    }\n",
              "\n",
              "    .dataframe tbody tr th {\n",
              "        vertical-align: top;\n",
              "    }\n",
              "\n",
              "    .dataframe thead th {\n",
              "        text-align: right;\n",
              "    }\n",
              "</style>\n",
              "<table border=\"1\" class=\"dataframe\">\n",
              "  <thead>\n",
              "    <tr style=\"text-align: right;\">\n",
              "      <th></th>\n",
              "      <th>Age</th>\n",
              "      <th>Income</th>\n",
              "      <th>SpendingScore</th>\n",
              "      <th>Savings</th>\n",
              "    </tr>\n",
              "  </thead>\n",
              "  <tbody>\n",
              "    <tr>\n",
              "      <th>0</th>\n",
              "      <td>58</td>\n",
              "      <td>77769</td>\n",
              "      <td>0.791329</td>\n",
              "      <td>6559.829923</td>\n",
              "    </tr>\n",
              "    <tr>\n",
              "      <th>1</th>\n",
              "      <td>59</td>\n",
              "      <td>81799</td>\n",
              "      <td>0.791082</td>\n",
              "      <td>5417.661426</td>\n",
              "    </tr>\n",
              "    <tr>\n",
              "      <th>2</th>\n",
              "      <td>62</td>\n",
              "      <td>74751</td>\n",
              "      <td>0.702657</td>\n",
              "      <td>9258.992965</td>\n",
              "    </tr>\n",
              "    <tr>\n",
              "      <th>3</th>\n",
              "      <td>59</td>\n",
              "      <td>74373</td>\n",
              "      <td>0.765680</td>\n",
              "      <td>7346.334504</td>\n",
              "    </tr>\n",
              "    <tr>\n",
              "      <th>4</th>\n",
              "      <td>87</td>\n",
              "      <td>17760</td>\n",
              "      <td>0.348778</td>\n",
              "      <td>16869.507130</td>\n",
              "    </tr>\n",
              "  </tbody>\n",
              "</table>\n",
              "</div>"
            ],
            "text/plain": [
              "   Age  Income  SpendingScore       Savings\n",
              "0   58   77769       0.791329   6559.829923\n",
              "1   59   81799       0.791082   5417.661426\n",
              "2   62   74751       0.702657   9258.992965\n",
              "3   59   74373       0.765680   7346.334504\n",
              "4   87   17760       0.348778  16869.507130"
            ]
          },
          "metadata": {
            "tags": []
          },
          "execution_count": 119
        }
      ]
    },
    {
      "cell_type": "code",
      "metadata": {
        "id": "11-WRfrEUNQ2"
      },
      "source": [
        " from sklearn.preprocessing import StandardScaler\n"
      ],
      "execution_count": 120,
      "outputs": []
    },
    {
      "cell_type": "code",
      "metadata": {
        "id": "x0NmDmvva9pH"
      },
      "source": [
        "X=StandardScaler().fit_transform(dfj)"
      ],
      "execution_count": 121,
      "outputs": []
    },
    {
      "cell_type": "code",
      "metadata": {
        "id": "W4BdRrEJbHGV"
      },
      "source": [
        "#INIT Model\n",
        "from sklearn.cluster import DBSCAN\n"
      ],
      "execution_count": 122,
      "outputs": []
    },
    {
      "cell_type": "code",
      "metadata": {
        "id": "7yR631L2b3D4"
      },
      "source": [
        "db=DBSCAN(eps=0.3,min_samples=10)"
      ],
      "execution_count": 123,
      "outputs": []
    },
    {
      "cell_type": "code",
      "metadata": {
        "id": "ZhUFqO9UcKIt"
      },
      "source": [
        "y_cluster_dbscan=db.fit_predict(X)"
      ],
      "execution_count": 124,
      "outputs": []
    },
    {
      "cell_type": "code",
      "metadata": {
        "id": "xDHuiRTtcVzt",
        "outputId": "2c28424c-8395-4785-d92f-de8dc7d7d584",
        "colab": {
          "base_uri": "https://localhost:8080/"
        }
      },
      "source": [
        "y_cluster_dbscan"
      ],
      "execution_count": 125,
      "outputs": [
        {
          "output_type": "execute_result",
          "data": {
            "text/plain": [
              "array([ 0,  0,  0,  0,  1,  4,  0,  1,  1,  1, -1,  2,  2,  2,  0,  3,  0,\n",
              "        1,  1,  3,  2,  3,  0,  1, -1,  4, -1,  0,  1,  0,  0,  0,  1,  0,\n",
              "        2,  0,  1,  0,  2,  2,  0,  1,  4,  0,  0,  4,  3,  4,  2,  0,  1,\n",
              "        2,  4,  1,  0,  1,  2,  1,  1,  1,  1,  1,  1,  0,  0,  0,  1, -1,\n",
              "        4,  0,  0,  2,  1,  1,  2,  0,  2,  0,  0,  4,  0, -1,  0,  1,  1,\n",
              "        2,  2,  0,  0,  0,  0,  0,  4,  1,  0,  4,  2,  0,  0,  2,  2,  4,\n",
              "        2,  4,  2,  1, -1,  2,  2,  0,  1,  2,  0,  2,  2,  2,  0,  2, -1,\n",
              "        1,  2,  1,  1,  1,  2,  3,  0,  1,  0,  0,  2,  0,  2,  0,  4,  1,\n",
              "       -1,  4,  0,  2,  1,  0,  0,  4,  0,  4,  0, -1,  0,  1,  0,  2,  1,\n",
              "        0,  1,  3,  2,  0,  1,  0,  2,  1,  0,  2, -1,  2,  1,  0,  2,  0,\n",
              "        1,  0,  2,  0,  1,  0,  0,  1,  1,  1,  0,  0,  2,  4,  4,  1,  2,\n",
              "        0,  0,  0,  2,  1,  0,  0,  0,  1, -1,  2,  1,  1,  1,  2,  0,  2,\n",
              "        0,  2,  0,  1,  4,  0,  1,  1, -1,  1,  0,  1,  2,  4,  2,  1,  0,\n",
              "        0,  2,  1,  2,  4,  2,  0,  0,  1,  0,  0,  1,  0,  0,  0, -1,  0,\n",
              "        2,  2,  4,  0,  0,  0, -1,  0,  2,  1,  4, -1,  4,  1,  0,  2,  1,\n",
              "       -1,  2,  2,  0,  0,  3,  0,  0,  1,  0,  1,  2,  4,  0,  2,  1,  0,\n",
              "        1,  1,  2,  0,  1,  1,  0,  0,  1,  2,  2,  3,  2,  1,  1, -1, -1,\n",
              "        1, -1,  4,  0,  2,  2,  0,  2,  1,  1,  2,  0,  2,  1,  0,  2,  4,\n",
              "        0,  1,  2,  2,  1,  3, -1,  0,  1,  2,  0,  0,  1,  2,  1,  2,  1,\n",
              "        2,  1,  1,  2,  1,  2,  0,  2,  0,  0,  2,  2,  1,  1, -1,  4,  2,\n",
              "        1,  4,  1,  3,  0,  0,  0,  1,  1,  2,  2,  3,  2, -1,  0,  2,  4,\n",
              "        1,  0,  1,  4,  0,  1,  1,  0,  1,  2,  0,  3,  2,  2,  0,  1,  1,\n",
              "        1,  1,  1,  2,  2,  1,  0,  2,  0,  3,  1,  1,  0,  1,  1,  0,  1,\n",
              "        1,  2,  1,  0,  2,  4,  2,  0,  1,  2,  0,  0,  0,  1,  2,  4,  2,\n",
              "        0,  2,  0,  0,  4,  2,  3,  4,  2,  2,  1,  0,  1,  2, -1,  2,  0,\n",
              "        0,  1, -1,  2,  1,  2,  0,  0,  2,  0,  1,  0,  2,  0,  1,  0,  1,\n",
              "       -1,  2,  2,  4,  2,  2,  1,  1,  0,  4,  0,  2, -1, -1, -1,  2,  4,\n",
              "        1,  2,  2,  0,  2,  1,  1, -1,  0,  2,  0,  0,  2,  0,  0,  0,  1,\n",
              "        2,  2,  0,  0,  0,  1,  2,  1,  1,  1,  1,  4,  1,  1,  1,  0,  0,\n",
              "        1,  1,  0,  4,  1,  2,  4,  2, -1,  1,  1,  1])"
            ]
          },
          "metadata": {
            "tags": []
          },
          "execution_count": 125
        }
      ]
    },
    {
      "cell_type": "code",
      "metadata": {
        "id": "HYcaapW7cXqY",
        "outputId": "fd718e30-1a10-42fb-dc63-754774b17f50",
        "colab": {
          "base_uri": "https://localhost:8080/"
        }
      },
      "source": [
        "#number of Unique Clusters\n",
        "set(y_cluster_dbscan)"
      ],
      "execution_count": 126,
      "outputs": [
        {
          "output_type": "execute_result",
          "data": {
            "text/plain": [
              "{-1, 0, 1, 2, 3, 4}"
            ]
          },
          "metadata": {
            "tags": []
          },
          "execution_count": 126
        }
      ]
    },
    {
      "cell_type": "code",
      "metadata": {
        "id": "OirvP_3zckZv",
        "outputId": "8bb28e27-0eac-479e-ffb7-2ec0af9f8254",
        "colab": {
          "base_uri": "https://localhost:8080/",
          "height": 285
        }
      },
      "source": [
        "plt.scatter(X[:,0],X[:,1],c=y_cluster_dbscan)"
      ],
      "execution_count": 127,
      "outputs": [
        {
          "output_type": "execute_result",
          "data": {
            "text/plain": [
              "<matplotlib.collections.PathCollection at 0x7f5eccb25ed0>"
            ]
          },
          "metadata": {
            "tags": []
          },
          "execution_count": 127
        },
        {
          "output_type": "display_data",
          "data": {
            "image/png": "[encoded data removed]",
            "text/plain": [
              "<Figure size 432x288 with 1 Axes>"
            ]
          },
          "metadata": {
            "tags": [],
            "needs_background": "light"
          }
        }
      ]
    },
    {
      "cell_type": "code",
      "metadata": {
        "id": "zVWMn7W7dJV-"
      },
      "source": [
        "#Number of cluster\n",
        "labels=db.labels_\n",
        "n_clusters_=len(set(labels))-(1 if -1 in labels else 0)"
      ],
      "execution_count": 128,
      "outputs": []
    },
    {
      "cell_type": "code",
      "metadata": {
        "id": "5QR1eGsveRfH",
        "outputId": "42d3dcb6-a009-49da-ba5c-283a523bb135",
        "colab": {
          "base_uri": "https://localhost:8080/"
        }
      },
      "source": [
        "n_clusters_"
      ],
      "execution_count": 129,
      "outputs": [
        {
          "output_type": "execute_result",
          "data": {
            "text/plain": [
              "5"
            ]
          },
          "metadata": {
            "tags": []
          },
          "execution_count": 129
        }
      ]
    },
    {
      "cell_type": "code",
      "metadata": {
        "id": "gs4VVXpveekQ"
      },
      "source": [
        "#Idnetify Noise\n",
        "n_noise=list(db.labels_).count(-1)"
      ],
      "execution_count": 130,
      "outputs": []
    },
    {
      "cell_type": "code",
      "metadata": {
        "id": "RB3-taqqsV7c",
        "outputId": "2c518abf-7e79-4b9e-f76d-f54fb4ec47f2",
        "colab": {
          "base_uri": "https://localhost:8080/"
        }
      },
      "source": [
        "n_noise"
      ],
      "execution_count": 131,
      "outputs": [
        {
          "output_type": "execute_result",
          "data": {
            "text/plain": [
              "30"
            ]
          },
          "metadata": {
            "tags": []
          },
          "execution_count": 131
        }
      ]
    },
    {
      "cell_type": "markdown",
      "metadata": {
        "id": "mU5JKm57txoL"
      },
      "source": [
        "\n",
        "Clustering using Hierarchical Clustering\n",
        "Hierarchical Clustering: the process of building a hierarchy or ordering of clusters till only one cluster is left\n",
        "Types of Hierarchical Clustering\n",
        "Additive(Agglomerative) hierarchical clustering\n",
        "\n",
        "Agglomerate (merge or join)\n",
        "Assign each point to a cluster\n",
        "Merge/Join closes pairs of clusters into one\n",
        "Repeat until you have a single cluster\n",
        "You keep on adding or joining clusters\n",
        "Divisive hierarchical clustering\n",
        "\n",
        "Opposite of Additive\n",
        "Start with a single large cluster\n",
        "Divide/Split the farthest point in the cluster\n",
        "Repeat until each cluster only contains a single data point\n",
        "Terms\n",
        "Similarity Distance\n",
        "Proximity Matrix: it stores the distances between each point\n",
        "Dendogram: used to find the number of clusters\n",
        "A dendrogram is a tree-like diagram that records the sequences of merges or splits.\n",
        "The number of clusters will be the number of vertical lines which are being intersected by the line drawn using the threshold.\n",
        "Agglomerative Hierarchical Clustering\n",
        "Merging clusters\n",
        "Dendogram to detect n_clusters to use and end at"
      ]
    },
    {
      "cell_type": "code",
      "metadata": {
        "id": "77ldoVyJuAYo"
      },
      "source": [
        "df_hie=pd.read_csv('jewellery.csv')"
      ],
      "execution_count": 132,
      "outputs": []
    },
    {
      "cell_type": "code",
      "metadata": {
        "id": "nfYnPP4_ucvY",
        "outputId": "5f18748a-0f4b-401a-f3dd-e55be946e3a2",
        "colab": {
          "base_uri": "https://localhost:8080/",
          "height": 202
        }
      },
      "source": [
        "df.head()"
      ],
      "execution_count": 133,
      "outputs": [
        {
          "output_type": "execute_result",
          "data": {
            "text/html": [
              "<div>\n",
              "<style scoped>\n",
              "    .dataframe tbody tr th:only-of-type {\n",
              "        vertical-align: middle;\n",
              "    }\n",
              "\n",
              "    .dataframe tbody tr th {\n",
              "        vertical-align: top;\n",
              "    }\n",
              "\n",
              "    .dataframe thead th {\n",
              "        text-align: right;\n",
              "    }\n",
              "</style>\n",
              "<table border=\"1\" class=\"dataframe\">\n",
              "  <thead>\n",
              "    <tr style=\"text-align: right;\">\n",
              "      <th></th>\n",
              "      <th>Age</th>\n",
              "      <th>Income</th>\n",
              "      <th>SpendingScore</th>\n",
              "      <th>Savings</th>\n",
              "    </tr>\n",
              "  </thead>\n",
              "  <tbody>\n",
              "    <tr>\n",
              "      <th>0</th>\n",
              "      <td>58</td>\n",
              "      <td>77769</td>\n",
              "      <td>0.791329</td>\n",
              "      <td>6559.829923</td>\n",
              "    </tr>\n",
              "    <tr>\n",
              "      <th>1</th>\n",
              "      <td>59</td>\n",
              "      <td>81799</td>\n",
              "      <td>0.791082</td>\n",
              "      <td>5417.661426</td>\n",
              "    </tr>\n",
              "    <tr>\n",
              "      <th>2</th>\n",
              "      <td>62</td>\n",
              "      <td>74751</td>\n",
              "      <td>0.702657</td>\n",
              "      <td>9258.992965</td>\n",
              "    </tr>\n",
              "    <tr>\n",
              "      <th>3</th>\n",
              "      <td>59</td>\n",
              "      <td>74373</td>\n",
              "      <td>0.765680</td>\n",
              "      <td>7346.334504</td>\n",
              "    </tr>\n",
              "    <tr>\n",
              "      <th>4</th>\n",
              "      <td>87</td>\n",
              "      <td>17760</td>\n",
              "      <td>0.348778</td>\n",
              "      <td>16869.507130</td>\n",
              "    </tr>\n",
              "  </tbody>\n",
              "</table>\n",
              "</div>"
            ],
            "text/plain": [
              "   Age  Income  SpendingScore       Savings\n",
              "0   58   77769       0.791329   6559.829923\n",
              "1   59   81799       0.791082   5417.661426\n",
              "2   62   74751       0.702657   9258.992965\n",
              "3   59   74373       0.765680   7346.334504\n",
              "4   87   17760       0.348778  16869.507130"
            ]
          },
          "metadata": {
            "tags": []
          },
          "execution_count": 133
        }
      ]
    },
    {
      "cell_type": "code",
      "metadata": {
        "id": "qeLr1qWfud-J"
      },
      "source": [
        "from sklearn.preprocessing import normalize\n",
        "scaled_hie=normalize(df_hie)"
      ],
      "execution_count": 134,
      "outputs": []
    },
    {
      "cell_type": "code",
      "metadata": {
        "id": "vnGeemxQuwVb",
        "outputId": "b28f931a-6c34-4976-c5f4-26c1ee01de05",
        "colab": {
          "base_uri": "https://localhost:8080/"
        }
      },
      "source": [
        "scaled_hie"
      ],
      "execution_count": 135,
      "outputs": [
        {
          "output_type": "execute_result",
          "data": {
            "text/plain": [
              "array([[7.43159163e-04, 9.96461119e-01, 1.01393661e-05, 8.40516847e-02],\n",
              "       [7.19703228e-04, 9.97813633e-01, 9.64990343e-06, 6.60865833e-02],\n",
              "       [8.23129701e-04, 9.92415618e-01, 9.32867431e-06, 1.22925034e-01],\n",
              "       ...,\n",
              "       [2.32006579e-03, 9.09904025e-01, 9.15521211e-06, 4.14812347e-01],\n",
              "       [3.28729403e-03, 7.47082724e-01, 1.28124694e-05, 6.64722948e-01],\n",
              "       [2.65575069e-03, 9.03164114e-01, 8.63298210e-06, 4.29287235e-01]])"
            ]
          },
          "metadata": {
            "tags": []
          },
          "execution_count": 135
        }
      ]
    },
    {
      "cell_type": "code",
      "metadata": {
        "id": "chJJ4i8kuy9i"
      },
      "source": [
        "scaled_hie=pd.DataFrame(scaled_hie,columns=df_hie.columns)"
      ],
      "execution_count": 136,
      "outputs": []
    },
    {
      "cell_type": "code",
      "metadata": {
        "id": "1VsJfLC4vIIa",
        "outputId": "b9364ed0-fb5b-4499-a28d-016d57532e72",
        "colab": {
          "base_uri": "https://localhost:8080/",
          "height": 414
        }
      },
      "source": [
        "scaled_hie"
      ],
      "execution_count": 137,
      "outputs": [
        {
          "output_type": "execute_result",
          "data": {
            "text/html": [
              "<div>\n",
              "<style scoped>\n",
              "    .dataframe tbody tr th:only-of-type {\n",
              "        vertical-align: middle;\n",
              "    }\n",
              "\n",
              "    .dataframe tbody tr th {\n",
              "        vertical-align: top;\n",
              "    }\n",
              "\n",
              "    .dataframe thead th {\n",
              "        text-align: right;\n",
              "    }\n",
              "</style>\n",
              "<table border=\"1\" class=\"dataframe\">\n",
              "  <thead>\n",
              "    <tr style=\"text-align: right;\">\n",
              "      <th></th>\n",
              "      <th>Age</th>\n",
              "      <th>Income</th>\n",
              "      <th>SpendingScore</th>\n",
              "      <th>Savings</th>\n",
              "    </tr>\n",
              "  </thead>\n",
              "  <tbody>\n",
              "    <tr>\n",
              "      <th>0</th>\n",
              "      <td>0.000743</td>\n",
              "      <td>0.996461</td>\n",
              "      <td>0.000010</td>\n",
              "      <td>0.084052</td>\n",
              "    </tr>\n",
              "    <tr>\n",
              "      <th>1</th>\n",
              "      <td>0.000720</td>\n",
              "      <td>0.997814</td>\n",
              "      <td>0.000010</td>\n",
              "      <td>0.066087</td>\n",
              "    </tr>\n",
              "    <tr>\n",
              "      <th>2</th>\n",
              "      <td>0.000823</td>\n",
              "      <td>0.992416</td>\n",
              "      <td>0.000009</td>\n",
              "      <td>0.122925</td>\n",
              "    </tr>\n",
              "    <tr>\n",
              "      <th>3</th>\n",
              "      <td>0.000789</td>\n",
              "      <td>0.995157</td>\n",
              "      <td>0.000010</td>\n",
              "      <td>0.098298</td>\n",
              "    </tr>\n",
              "    <tr>\n",
              "      <th>4</th>\n",
              "      <td>0.003552</td>\n",
              "      <td>0.725046</td>\n",
              "      <td>0.000014</td>\n",
              "      <td>0.688692</td>\n",
              "    </tr>\n",
              "    <tr>\n",
              "      <th>...</th>\n",
              "      <td>...</td>\n",
              "      <td>...</td>\n",
              "      <td>...</td>\n",
              "      <td>...</td>\n",
              "    </tr>\n",
              "    <tr>\n",
              "      <th>500</th>\n",
              "      <td>0.000274</td>\n",
              "      <td>0.989284</td>\n",
              "      <td>0.000004</td>\n",
              "      <td>0.146006</td>\n",
              "    </tr>\n",
              "    <tr>\n",
              "      <th>501</th>\n",
              "      <td>0.003465</td>\n",
              "      <td>0.742750</td>\n",
              "      <td>0.000008</td>\n",
              "      <td>0.669559</td>\n",
              "    </tr>\n",
              "    <tr>\n",
              "      <th>502</th>\n",
              "      <td>0.002320</td>\n",
              "      <td>0.909904</td>\n",
              "      <td>0.000009</td>\n",
              "      <td>0.414812</td>\n",
              "    </tr>\n",
              "    <tr>\n",
              "      <th>503</th>\n",
              "      <td>0.003287</td>\n",
              "      <td>0.747083</td>\n",
              "      <td>0.000013</td>\n",
              "      <td>0.664723</td>\n",
              "    </tr>\n",
              "    <tr>\n",
              "      <th>504</th>\n",
              "      <td>0.002656</td>\n",
              "      <td>0.903164</td>\n",
              "      <td>0.000009</td>\n",
              "      <td>0.429287</td>\n",
              "    </tr>\n",
              "  </tbody>\n",
              "</table>\n",
              "<p>505 rows × 4 columns</p>\n",
              "</div>"
            ],
            "text/plain": [
              "          Age    Income  SpendingScore   Savings\n",
              "0    0.000743  0.996461       0.000010  0.084052\n",
              "1    0.000720  0.997814       0.000010  0.066087\n",
              "2    0.000823  0.992416       0.000009  0.122925\n",
              "3    0.000789  0.995157       0.000010  0.098298\n",
              "4    0.003552  0.725046       0.000014  0.688692\n",
              "..        ...       ...            ...       ...\n",
              "500  0.000274  0.989284       0.000004  0.146006\n",
              "501  0.003465  0.742750       0.000008  0.669559\n",
              "502  0.002320  0.909904       0.000009  0.414812\n",
              "503  0.003287  0.747083       0.000013  0.664723\n",
              "504  0.002656  0.903164       0.000009  0.429287\n",
              "\n",
              "[505 rows x 4 columns]"
            ]
          },
          "metadata": {
            "tags": []
          },
          "execution_count": 137
        }
      ]
    },
    {
      "cell_type": "code",
      "metadata": {
        "id": "MnhKgBKRvJOk"
      },
      "source": [
        "#Detecting number of clusters using dendogram\n",
        "import scipy.cluster.hierarchy as shc"
      ],
      "execution_count": 138,
      "outputs": []
    },
    {
      "cell_type": "code",
      "metadata": {
        "id": "oTlAYl6_vcpe",
        "outputId": "5364656f-c684-4d1e-e19b-49b2750d82e8",
        "colab": {
          "base_uri": "https://localhost:8080/",
          "height": 444
        }
      },
      "source": [
        "plt.figure(figsize=(10,7))\n",
        "plt.title('dendogram for uml')\n",
        "dend=shc.dendrogram(shc.linkage(scaled_hie,method='ward'))"
      ],
      "execution_count": 139,
      "outputs": [
        {
          "output_type": "display_data",
          "data": {
            "image/png": "[encoded data removed]",
            "text/plain": [
              "<Figure size 720x504 with 1 Axes>"
            ]
          },
          "metadata": {
            "tags": [],
            "needs_background": "light"
          }
        }
      ]
    },
    {
      "cell_type": "code",
      "metadata": {
        "id": "EKa5zcd_vzib",
        "outputId": "8f8438a6-82b6-4adb-807d-f10aeb33e86f",
        "colab": {
          "base_uri": "https://localhost:8080/",
          "height": 462
        }
      },
      "source": [
        "plt.figure(figsize=(10,7))\n",
        "plt.title(\"Dendogram For UML\")\n",
        "dend = shc.dendrogram(shc.linkage(scaled_hie,method='ward'))\n",
        "plt.axhline(y=2,color='r',linestyle='--')"
      ],
      "execution_count": 140,
      "outputs": [
        {
          "output_type": "execute_result",
          "data": {
            "text/plain": [
              "<matplotlib.lines.Line2D at 0x7f5ecc708490>"
            ]
          },
          "metadata": {
            "tags": []
          },
          "execution_count": 140
        },
        {
          "output_type": "display_data",
          "data": {
            "image/png": "[encoded data removed]",
            "text/plain": [
              "<Figure size 720x504 with 1 Axes>"
            ]
          },
          "metadata": {
            "tags": [],
            "needs_background": "light"
          }
        }
      ]
    },
    {
      "cell_type": "code",
      "metadata": {
        "id": "d2FmfwVBxfEH",
        "outputId": "4956240c-63ba-4dc0-d53b-a7ad9283cea6",
        "colab": {
          "base_uri": "https://localhost:8080/"
        }
      },
      "source": [
        "from sklearn.cluster import AgglomerativeClustering\n",
        "hcluster = AgglomerativeClustering(n_clusters=2,affinity='euclidean',linkage='ward')\n",
        "y_clust_hcl = hcluster.fit_predict(scaled_hie)\n",
        "y_clust_hcl"
      ],
      "execution_count": 141,
      "outputs": [
        {
          "output_type": "execute_result",
          "data": {
            "text/plain": [
              "array([1, 1, 1, 1, 0, 1, 1, 0, 0, 0, 1, 1, 1, 1, 1, 1, 1, 0, 0, 1, 1, 1,\n",
              "       1, 0, 1, 1, 1, 1, 0, 1, 1, 1, 0, 1, 1, 1, 0, 1, 1, 1, 1, 0, 1, 1,\n",
              "       1, 1, 1, 1, 1, 1, 0, 1, 1, 0, 1, 0, 1, 0, 0, 0, 0, 0, 0, 1, 1, 1,\n",
              "       0, 1, 1, 1, 1, 1, 0, 0, 1, 1, 1, 1, 1, 1, 1, 1, 1, 0, 0, 1, 1, 1,\n",
              "       1, 1, 1, 1, 1, 0, 1, 1, 1, 1, 1, 1, 1, 1, 1, 1, 1, 0, 0, 1, 1, 1,\n",
              "       0, 1, 1, 1, 1, 1, 1, 1, 1, 0, 1, 0, 0, 0, 1, 1, 1, 0, 1, 1, 1, 1,\n",
              "       1, 1, 1, 0, 1, 1, 1, 1, 0, 1, 1, 1, 1, 1, 1, 1, 1, 0, 1, 1, 0, 1,\n",
              "       0, 1, 1, 1, 0, 1, 1, 0, 1, 1, 0, 1, 0, 1, 1, 1, 0, 1, 1, 1, 0, 1,\n",
              "       1, 0, 0, 0, 1, 1, 1, 1, 1, 0, 1, 1, 1, 1, 1, 0, 1, 1, 1, 0, 1, 1,\n",
              "       0, 0, 0, 1, 1, 1, 1, 1, 1, 0, 1, 1, 0, 0, 0, 0, 1, 0, 1, 1, 1, 0,\n",
              "       1, 1, 1, 0, 1, 1, 1, 1, 1, 0, 1, 1, 0, 1, 1, 1, 1, 1, 1, 1, 1, 1,\n",
              "       1, 1, 1, 1, 1, 0, 1, 1, 1, 0, 1, 1, 0, 0, 1, 1, 1, 1, 1, 1, 1, 0,\n",
              "       1, 0, 1, 1, 1, 1, 0, 1, 0, 0, 1, 1, 0, 0, 1, 1, 0, 1, 1, 1, 1, 0,\n",
              "       0, 1, 1, 0, 0, 1, 1, 1, 1, 1, 1, 0, 0, 1, 1, 1, 0, 1, 1, 1, 1, 0,\n",
              "       1, 1, 0, 1, 1, 1, 0, 1, 1, 1, 0, 1, 0, 1, 0, 1, 0, 0, 1, 0, 1, 1,\n",
              "       1, 1, 1, 1, 1, 0, 0, 1, 1, 1, 0, 1, 0, 1, 1, 1, 1, 0, 0, 1, 1, 1,\n",
              "       1, 1, 1, 1, 1, 0, 1, 0, 1, 1, 0, 0, 1, 0, 1, 1, 1, 1, 1, 1, 0, 0,\n",
              "       0, 0, 0, 1, 1, 0, 1, 1, 1, 1, 0, 0, 1, 0, 0, 1, 0, 0, 1, 0, 1, 1,\n",
              "       1, 1, 1, 0, 1, 1, 1, 1, 0, 1, 1, 1, 1, 1, 1, 1, 1, 1, 1, 1, 1, 1,\n",
              "       0, 1, 0, 1, 0, 1, 1, 1, 0, 1, 1, 0, 1, 1, 1, 1, 1, 0, 1, 1, 1, 0,\n",
              "       1, 0, 1, 1, 1, 1, 1, 1, 0, 0, 1, 1, 1, 1, 1, 1, 1, 1, 1, 0, 1, 1,\n",
              "       1, 1, 0, 0, 1, 1, 1, 1, 1, 1, 1, 1, 1, 0, 1, 1, 1, 1, 1, 0, 1, 0,\n",
              "       0, 0, 0, 1, 0, 0, 0, 1, 1, 0, 0, 1, 1, 0, 1, 1, 1, 0, 0, 0, 0])"
            ]
          },
          "metadata": {
            "tags": []
          },
          "execution_count": 141
        }
      ]
    },
    {
      "cell_type": "code",
      "metadata": {
        "id": "--CPxFUNxyWo",
        "outputId": "78989be3-b561-4d21-f158-a21a4d13dc30",
        "colab": {
          "base_uri": "https://localhost:8080/",
          "height": 445
        }
      },
      "source": [
        "scaled_hie['clusters'] = y_clust_hcl\n",
        "# Plot\n",
        "plt.figure(figsize=(10,7))\n",
        "plt.scatter(scaled_hie['Age'],scaled_hie['Savings'],c=scaled_hie['clusters'])"
      ],
      "execution_count": 142,
      "outputs": [
        {
          "output_type": "execute_result",
          "data": {
            "text/plain": [
              "<matplotlib.collections.PathCollection at 0x7f5eccb25e50>"
            ]
          },
          "metadata": {
            "tags": []
          },
          "execution_count": 142
        },
        {
          "output_type": "display_data",
          "data": {
            "image/png": "[encoded data removed]",
            "text/plain": [
              "<Figure size 720x504 with 1 Axes>"
            ]
          },
          "metadata": {
            "tags": [],
            "needs_background": "light"
          }
        }
      ]
    },
    {
      "cell_type": "markdown",
      "metadata": {
        "id": "1s1yNfkbx6jJ"
      },
      "source": [
        "Clustering using BIRCH\n",
        "BIRCH stands for Balanced Iterative Reducing and Clustering using Hierarchies\n",
        "It is a hierarchical clustering algorithm.\n",
        "It provides a memory-efficient clustering method for large datasets.\n",
        "Very good for large dataset\n",
        "Clustering is conducted without scanning all points in a dataset.\n",
        "The BIRCH algorithm creates Clustering Features (CF) Tree for a given dataset and CF contains the number of sub-clusters that holds only a necessary part of the data. Thus the method does not require to memorize the entire dataset.\n",
        "Terms\n",
        "branching_factor: it defines the number of sub-clusters and\n",
        "threshold: it sets the limit between the sample and sub-cluster.\n",
        "Benefit\n",
        "Useful for large dataset\n",
        "BIRCH can work with any given amount of memory, and the I/O complexity is a little more than one scan of data."
      ]
    },
    {
      "cell_type": "code",
      "metadata": {
        "id": "rkhZrhxJzIcr"
      },
      "source": [
        "\n",
        "from sklearn.cluster import Birch"
      ],
      "execution_count": 143,
      "outputs": []
    },
    {
      "cell_type": "code",
      "metadata": {
        "id": "aa1rk3IOzJGz",
        "outputId": "980f4590-d92d-4cbb-e1ac-cf6cd7413ffd",
        "colab": {
          "base_uri": "https://localhost:8080/",
          "height": 282
        }
      },
      "source": [
        "birch_model = Birch(branching_factor=100,threshold=0.5,n_clusters=4)\n",
        "birch_model.fit(df_hie)\n",
        "y_clus_bch = birch_model.predict(df_hie)\n",
        "#scaled_hie['birch']=y_clus_bch\n",
        "plt.scatter(df_hie['Age'],df_hie['Income'],c=birch_model.labels_)"
      ],
      "execution_count": 144,
      "outputs": [
        {
          "output_type": "execute_result",
          "data": {
            "text/plain": [
              "<matplotlib.collections.PathCollection at 0x7f5ecd289d50>"
            ]
          },
          "metadata": {
            "tags": []
          },
          "execution_count": 144
        },
        {
          "output_type": "display_data",
          "data": {
            "image/png": "[encoded data removed]",
            "text/plain": [
              "<Figure size 432x288 with 1 Axes>"
            ]
          },
          "metadata": {
            "tags": [],
            "needs_background": "light"
          }
        }
      ]
    },
    {
      "cell_type": "code",
      "metadata": {
        "id": "06vkyQyXz4bv"
      },
      "source": [
        ""
      ],
      "execution_count": 144,
      "outputs": []
    }
  ]
}